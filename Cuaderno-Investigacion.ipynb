{
 "cells": [
  {
   "cell_type": "markdown",
   "metadata": {},
   "source": [
    "# Algoritmo Del Vendedor Viajero - Proyecto II \n"
   ]
  },
  {
   "cell_type": "markdown",
   "metadata": {},
   "source": [
    "## 1. Pregunta De Investigación "
   ]
  },
  {
   "cell_type": "markdown",
   "metadata": {},
   "source": [
    "¿Cómo se compara el desempeño del algoritmo simulated annealing con el desempeño del algoritmo genético en la resolución del problema del vendedor viajero para 17 localidades en Costa Rica?"
   ]
  },
  {
   "cell_type": "markdown",
   "metadata": {},
   "source": [
    "## 2. Preguntas Secundarias  De Investigación"
   ]
  },
  {
   "cell_type": "markdown",
   "metadata": {},
   "source": [
    "- ¿Cuál es la configuración de parámetros recomendada para resolver el\n",
    "  problema con el algoritmo simulated annealing? ¿Por qué?\n",
    "  \n",
    "  \n",
    "- ¿Cuál es la configuración de parámetros recomendada para resolver el\n",
    "  problema con el algoritmo genético? ¿Por qué?"
   ]
  },
  {
   "cell_type": "markdown",
   "metadata": {},
   "source": [
    "## 3. Problema"
   ]
  },
  {
   "cell_type": "markdown",
   "metadata": {},
   "source": [
    "El problema del vendedor  viajero se trata de  crear un algoritmo que busque la ruta mas optima  entre n cantidades de ciudades visitando cada ciudad  exactamente una vez  y finalizando la ruta en la ciudad  donde comenzo. Se utilizaran dos metodos de algoritmos diferentes , el primero será un algoritmo de simulated annealing y el segundo un algoritmo genético. "
   ]
  },
  {
   "cell_type": "markdown",
   "metadata": {},
   "source": [
    "### Alcances  y Delimitaciones"
   ]
  },
  {
   "cell_type": "markdown",
   "metadata": {},
   "source": [
    "Los algoritmos de  simulated  annnealing y genetico utilizan un estilo similar la idea  de estos algoritmos es comenzar  con dos o mas  soluciones al azar  y ir comparando y modificando estas  soluciones con base a su rendimiento, para  asi al final encontrar una solucion optima. Esto permite que apesar  de comenzar con soluciones  al azar estos algoritmos nos dan soluciones optimas que funcionan de muy buena manera. Estos algoritmos utilizan bastantes recursos, pero nos permiten encontrar soluciones que resuelven problemas complicados que de otra manera se nos dificultarían mas. "
   ]
  },
  {
   "cell_type": "markdown",
   "metadata": {},
   "source": [
    "### Hipótesis"
   ]
  },
  {
   "cell_type": "markdown",
   "metadata": {},
   "source": [
    "El algoritmo genético genera una solución más óptima en cuanto a distancia recorrida se refiere, debido a sus raíces provenientes del darwinismo o selección natural, en donde se inicia considerando un gran grupo de posibles resultados y se van generando diversas filtraciones, eliminando todo aquello que pareciera no cumplir con un buen rendimiento; sin embargo, esto genera que su tiempo de ejecución sea mayor en comparación a su contrincante, por lo que, si el tiempo no representa un problema, este será la opción conveniente, pero si lo que queremos es generar un camino a mayor velocidad de procesador, simulated annealing es el ganador. "
   ]
  },
  {
   "cell_type": "markdown",
   "metadata": {},
   "source": [
    "## 4. Metodología"
   ]
  },
  {
   "cell_type": "markdown",
   "metadata": {},
   "source": [
    "Para comparar el algoritmo genetico y simulated annealing vamos a utilizar  el csv con 17 ciudades, se procesara con las funciones DominioAGTSP(Csv,Ciudad)  para generar una matriz en el algoritmo genetico, donde su primer parametro es la ruta del archivo csv y su segundo parametro es el nombre de la ciudad inicial, y DominioTSP para la matriz de simulated annealing que tiene los mismos parametros. \n",
    "\n",
    "Se ejecutaran los algoritmos 17 veces(Cantidad_de_iteraciones) con cada una de las ciudades que se encuentran en el archivo. Primeramente se haran pruebas con respecto al costo total del resultado(ruta).Usaremos la funcion fcosto(x)(que recibe como parametro el resultado del algoritmo) para determinar el costo de cada solucion. Luego se introduciran esos costos en una tabla utilizando la biblioteca prettytable para visualizar de manera sencilla cual algoritmo es mas eficiente.\n",
    "\n",
    "Despues se haran de nuevo las pruebas pero esta vez con respecto al tiempo de ejecucion de los algoritmos. Para calcular el tiempo de ejecucion de cada algoritmo se hara uso de la funcion time.process_time() con el fin de saber el tiempo de ejecucion del programa hasta el momento. Se ejecutara la funcion y se guardara el resultado antes y despues de correr el algoritmo correspondiente para posteriormente restar los tiempos y asi calcular el tiempo de ejecucion del algoritmo. Despues se introduciran los tiempos de ejecucion en una tabla para comparar de manera sencilla los tiempos de ambos algoritmos."
   ]
  },
  {
   "cell_type": "markdown",
   "metadata": {},
   "source": [
    "## 5. Propuesta De Experimentos"
   ]
  },
  {
   "cell_type": "markdown",
   "metadata": {},
   "source": [
    "Especificaciones promedio para TODOS los experimentos propuestos: \n",
    "\n",
    "Para su obtener resultados lo más acercados a lo propuesto se necesita una maquina: HP con 8gb de RAM, 1 TERA de almacenamiento en disco, y un procesador AMD Ryzen 3\n",
    "\n",
    "- Contar con una distribución de linux de la rama Debian, como S.O.\n",
    "- Contar con la versión de Python 3.8\n",
    "- Contar con Pip instalado previamente\n",
    "- Instalar las siguientes bibliotecas"
   ]
  },
  {
   "cell_type": "code",
   "execution_count": 1,
   "metadata": {},
   "outputs": [
    {
     "name": "stdout",
     "output_type": "stream",
     "text": [
      "Requirement already up-to-date: prettytable in /home/flicker/.local/lib/python3.8/site-packages (2.0.0)\n",
      "Requirement already satisfied, skipping upgrade: wcwidth in /home/flicker/.local/lib/python3.8/site-packages (from prettytable) (0.1.7)\n",
      "Requirement already satisfied, skipping upgrade: setuptools in /usr/lib/python3/dist-packages (from prettytable) (49.3.1)\n",
      "Note: you may need to restart the kernel to use updated packages.\n"
     ]
    }
   ],
   "source": [
    "pip install -U prettytable"
   ]
  },
  {
   "cell_type": "code",
   "execution_count": 2,
   "metadata": {},
   "outputs": [
    {
     "name": "stdout",
     "output_type": "stream",
     "text": [
      "Requirement already satisfied: pylab-sdk in /home/flicker/.local/lib/python3.8/site-packages (1.3.2)\n",
      "Note: you may need to restart the kernel to use updated packages.\n"
     ]
    }
   ],
   "source": [
    "pip install pylab-sdk"
   ]
  },
  {
   "cell_type": "code",
   "execution_count": 3,
   "metadata": {},
   "outputs": [
    {
     "name": "stdout",
     "output_type": "stream",
     "text": [
      "Requirement already up-to-date: matplotlib in /home/flicker/.local/lib/python3.8/site-packages (3.3.3)\n",
      "Requirement already satisfied, skipping upgrade: numpy>=1.15 in /home/flicker/.local/lib/python3.8/site-packages (from matplotlib) (1.19.2)\n",
      "Requirement already satisfied, skipping upgrade: python-dateutil>=2.1 in /usr/lib/python3/dist-packages (from matplotlib) (2.8.1)\n",
      "Requirement already satisfied, skipping upgrade: pyparsing!=2.0.4,!=2.1.2,!=2.1.6,>=2.0.3 in /home/flicker/.local/lib/python3.8/site-packages (from matplotlib) (2.4.2)\n",
      "Requirement already satisfied, skipping upgrade: cycler>=0.10 in /home/flicker/.local/lib/python3.8/site-packages (from matplotlib) (0.10.0)\n",
      "Requirement already satisfied, skipping upgrade: kiwisolver>=1.0.1 in /home/flicker/.local/lib/python3.8/site-packages (from matplotlib) (1.3.0)\n",
      "Requirement already satisfied, skipping upgrade: pillow>=6.2.0 in /usr/lib/python3/dist-packages (from matplotlib) (7.2.0)\n",
      "Requirement already satisfied, skipping upgrade: six in /home/flicker/.local/lib/python3.8/site-packages (from cycler>=0.10->matplotlib) (1.12.0)\n",
      "Note: you may need to restart the kernel to use updated packages.\n"
     ]
    }
   ],
   "source": [
    "pip install -U matplotlib"
   ]
  },
  {
   "cell_type": "code",
   "execution_count": 4,
   "metadata": {
    "scrolled": true
   },
   "outputs": [
    {
     "name": "stdout",
     "output_type": "stream",
     "text": [
      "Requirement already satisfied: requests in /usr/lib/python3/dist-packages (2.23.0)\n",
      "Note: you may need to restart the kernel to use updated packages.\n"
     ]
    }
   ],
   "source": [
    "pip install requests"
   ]
  },
  {
   "cell_type": "markdown",
   "metadata": {},
   "source": [
    "### Competencia en costos"
   ]
  },
  {
   "cell_type": "code",
   "execution_count": 5,
   "metadata": {
    "scrolled": false
   },
   "outputs": [
    {
     "name": "stdout",
     "output_type": "stream",
     "text": [
      "+------------------------+--------------------+--------------------+---------------------+\n",
      "|    Ciudad de Inicio    |   Costo Genetico   |     Costo S.A      |      Diferencia     |\n",
      "+------------------------+--------------------+--------------------+---------------------+\n",
      "|        Liberia         |       1641.1       |       3960.9       |       -2319.8       |\n",
      "|       Santa Cruz       | 1793.2000000000003 |       3699.9       | -1906.6999999999998 |\n",
      "|         Nicoya         | 1693.8000000000002 | 3406.7000000000003 |       -1712.9       |\n",
      "|     Ciudad Quesada     |       1766.5       |       3716.5       |       -1950.0       |\n",
      "|        Alajuela        |       1897.6       |       3320.5       |       -1422.9       |\n",
      "|        Heredia         | 1897.3000000000002 |       3452.2       | -1554.8999999999996 |\n",
      "| Puerto Viejo Sarapiqui | 1786.6999999999998 |       3651.2       |       -1864.5       |\n",
      "|        San Jose        | 1829.8999999999999 |       3792.0       | -1962.1000000000001 |\n",
      "| San Isidro del General | 1699.1999999999998 | 3464.9000000000005 | -1765.7000000000007 |\n",
      "|       Puntarenas       | 1897.1999999999998 |       3784.0       | -1886.8000000000002 |\n",
      "|         Quepos         | 1674.8999999999999 |       3874.9       |       -2200.0       |\n",
      "|        Golfito         |       1716.5       |       3618.5       |       -1902.0       |\n",
      "|        Cartago         | 1747.0000000000002 |       3808.5       |       -2061.5       |\n",
      "|       Turrialba        | 1862.6000000000001 |       3549.5       | -1686.8999999999999 |\n",
      "|        Guapiles        |       2107.4       |       3670.6       | -1563.1999999999998 |\n",
      "|         Limon          |       1820.1       |       3239.0       |       -1418.9       |\n",
      "| Puerto Viejo Talamanca |       1845.0       | 3931.1000000000004 | -2086.1000000000004 |\n",
      "+------------------------+--------------------+--------------------+---------------------+\n"
     ]
    },
    {
     "data": {
      "image/png": "[encoded data removed]",
      "text/plain": [
       "<Figure size 864x432 with 1 Axes>"
      ]
     },
     "metadata": {
      "needs_background": "light"
     },
     "output_type": "display_data"
    }
   ],
   "source": [
    "import big_o\n",
    "from big_o import complexities as cmpl\n",
    "from prettytable import PrettyTable\n",
    "from pylab import *\n",
    "from algoritmo_genetico import optimizar as oag\n",
    "from dominio_ag_tsp import DominioAGTSP\n",
    "\n",
    "from simulated_annealing import optimizar as osa\n",
    "from dominio_tsp import DominioTSP\n",
    "import matplotlib\n",
    "import matplotlib.pyplot as plt\n",
    "import numpy as np\n",
    "CANTIDAD_DE_ITERACIONES = 17\n",
    "\n",
    "#PRUEBAS EN COSTO\n",
    "\n",
    "dominioAG = DominioAGTSP('datos/ciudades_cr.csv', 'Cartago')\n",
    "\n",
    "#Tabla\n",
    "tabla = PrettyTable(['Ciudad de Inicio', 'Costo Genetico', 'Costo S.A ', 'Diferencia'])\n",
    "\n",
    "ciudades = []\n",
    "costo_genetico = []\n",
    "costo_sa = []\n",
    "\n",
    "for i in range(0, CANTIDAD_DE_ITERACIONES):\n",
    "    ciudad = dominioAG.cities[i]\n",
    "    dominioAG = DominioAGTSP('datos/ciudades_cr.csv', ciudad)\n",
    "    solAG = oag(dominioAG, 100, 0.1, 0.5, 1000)\n",
    "    \n",
    "\n",
    "    #Cargaremos los dominios para el S.A\n",
    "    dominioSP = DominioTSP('datos/ciudades_cr.csv', ciudad)\n",
    "    solSP = osa(dominioSP)\n",
    "    \n",
    "    costoAGMejorSolucion = dominioAG.fcosto(solAG)\n",
    "    costoSPMejorSolucion = dominioSP.fcosto(solSP)\n",
    "    if i%3 == 0:\n",
    "        costo_genetico.append(round(costoAGMejorSolucion, 3))\n",
    "        costo_sa.append(round(costoSPMejorSolucion, 3))\n",
    "        ciudades.append(ciudad)\n",
    "    tabla.add_row([ciudad,str(costoAGMejorSolucion),str(costoSPMejorSolucion),str(costoAGMejorSolucion-costoSPMejorSolucion)])\n",
    "    #AÑADIR A TABLA E IMPRIMIR TABLA\n",
    "    \n",
    "print(tabla)\n",
    "\n",
    "#Obtenemos la posicion de cada etiqueta en el eje de X\n",
    "x = np.arange(len(ciudades))\n",
    "#tamaño de cada barra\n",
    "width = 0.35\n",
    "\n",
    "fig, ax = plt.subplots()\n",
    "\n",
    "\n",
    "\n",
    "rects1 = ax.bar(x - width/2, costo_genetico, width, label='Algoritmo Genetico')\n",
    "\n",
    "rects2 = ax.bar(x + width/2, costo_sa, width, label='S.A')\n",
    "\n",
    "#Añadimos las etiquetas de identificacion de valores en el grafico\n",
    "ax.set_ylabel('Costo')\n",
    "ax.set_title('Comparacion de Costos de los algoritmos')\n",
    "ax.set_xticks(x)\n",
    "ax.set_xticklabels(ciudades)\n",
    "#Añadimos un legen() esto permite mmostrar con colores a que pertence cada valor.\n",
    "ax.legend()\n",
    "\n",
    "def autolabel(rects):\n",
    "    \"\"\"Funcion para agregar una etiqueta con el valor en cada barra\"\"\"\n",
    "    for rect in rects:\n",
    "        height = rect.get_height()\n",
    "        ax.annotate('{}'.format(height),\n",
    "                    xy=(rect.get_x() + rect.get_width() / 2, height),\n",
    "                    xytext=(0, 3),  # 3 points vertical offset\n",
    "                    textcoords=\"offset points\",\n",
    "                    ha='center', va='bottom')\n",
    "\n",
    "#Añadimos las etiquetas para cada barra\n",
    "autolabel(rects1)\n",
    "autolabel(rects2)\n",
    "fig.tight_layout()\n",
    "fig.set_size_inches(12, 6)\n",
    "plt.savefig('doble_barra.png')\n",
    "#Mostramos la grafica con el metodo show()\n",
    "plt.show()\n"
   ]
  },
  {
   "cell_type": "markdown",
   "metadata": {},
   "source": [
    "### Competencia en Tiempos"
   ]
  },
  {
   "cell_type": "code",
   "execution_count": 6,
   "metadata": {},
   "outputs": [
    {
     "name": "stdout",
     "output_type": "stream",
     "text": [
      "+------------------------+---------------------------+----------------------+--------------------+\n",
      "|    Ciudad de Inicio    | Tiempo algoritmo genetico |      Tiempo S.A      |     Diferencia     |\n",
      "+------------------------+---------------------------+----------------------+--------------------+\n",
      "|        Liberia         |     1.181926188000002     | 0.011624051999998386 | 1.1703021360000037 |\n",
      "|       Santa Cruz       |     1.1791763369999977    | 0.012241380999999052 | 1.1669349559999986 |\n",
      "|         Nicoya         |     1.1786213650000015    | 0.012045632999999611 | 1.1665757320000019 |\n",
      "|     Ciudad Quesada     |        1.161613311        | 0.011935917000002405 | 1.1496773939999976 |\n",
      "|        Alajuela        |     1.135728506000003     | 0.011956817000001507 | 1.1237716890000016 |\n",
      "|        Heredia         |     1.1238100939999995    | 0.01184826300000097  | 1.1119618309999986 |\n",
      "| Puerto Viejo Sarapiqui |     1.1176910389999968    | 0.011445145999999795 | 1.106245892999997  |\n",
      "|        San Jose        |     1.1179004640000016    | 0.012406710999997017 | 1.1054937530000046 |\n",
      "| San Isidro del General |     1.118239176000003     | 0.011817284000002815 | 1.1064218920000002 |\n",
      "|       Puntarenas       |        1.144237982        | 0.012048808999999494 | 1.1321891730000004 |\n",
      "|         Quepos         |     1.1477942790000029    | 0.012439102000001867 | 1.135355177000001  |\n",
      "|        Golfito         |     1.1079647480000006    | 0.011832494000003635 | 1.096132253999997  |\n",
      "|        Cartago         |     1.1521765609999974    | 0.011731863000001397 | 1.140444697999996  |\n",
      "|       Turrialba        |     1.1211623509999953    | 0.011675708000005613 | 1.1094866429999897 |\n",
      "|        Guapiles        |     1.1446193760000014    | 0.012239487999998744 | 1.1323798880000027 |\n",
      "|         Limon          |     1.1328784929999998    | 0.01208989699999563  | 1.1207885960000041 |\n",
      "| Puerto Viejo Talamanca |     1.1693278909999947    |  0.0119679270000006  | 1.157359963999994  |\n",
      "+------------------------+---------------------------+----------------------+--------------------+\n"
     ]
    },
    {
     "data": {
      "image/png": "[encoded data removed]",
      "text/plain": [
       "<Figure size 864x432 with 1 Axes>"
      ]
     },
     "metadata": {
      "needs_background": "light"
     },
     "output_type": "display_data"
    }
   ],
   "source": [
    "import time\n",
    "\n",
    "#Añadir A tabla\n",
    "CANTIDAD_DE_ITERACIONES = 17\n",
    "\n",
    "#Tabla\n",
    "tabla = PrettyTable(['Ciudad de Inicio', 'Tiempo algoritmo genetico', 'Tiempo S.A', 'Diferencia'])\n",
    "ciudades = []\n",
    "tiempo_genetico = []\n",
    "tiempo_sa = []\n",
    "\n",
    "for i in range(0, CANTIDAD_DE_ITERACIONES):\n",
    "    \n",
    "    ciudad = dominioAG.cities[i]\n",
    "    dominioAG = DominioAGTSP('datos/ciudades_cr.csv', ciudad)\n",
    "    #Cargaremos los dominios para el S.A\n",
    "    dominioSP = DominioTSP('datos/ciudades_cr.csv', ciudad)\n",
    "    \n",
    "    \n",
    "    inicioAG = time.process_time()\n",
    "    x = oag(dominioAG, 100, 0.1, 0.5, 1000)\n",
    "    deltaAG = time.process_time() - inicioAG \n",
    "    inicioSA = time.process_time()\n",
    "    y = osa(dominioSP)\n",
    "    deltaSA = time.process_time() - inicioSA\n",
    "    if i%3 == 0:\n",
    "        tiempo_genetico.append(round(deltaAG,3))\n",
    "        tiempo_sa.append(round(deltaSA,3))\n",
    "        ciudades.append(ciudad)\n",
    "    tabla.add_row([ciudad,str(deltaAG),str(deltaSA),str(deltaAG-deltaSA)])\n",
    "print(tabla)\n",
    "\n",
    "\n",
    "\n",
    "x = np.arange(len(ciudades))\n",
    "\n",
    "width = 0.35\n",
    "\n",
    "fig, ax = plt.subplots()\n",
    "\n",
    "\n",
    "\n",
    "rects1 = ax.bar(x - width/2, tiempo_genetico, width, label='Algoritmo Genetico')\n",
    "\n",
    "rects2 = ax.bar(x + width/2, tiempo_sa, width, label='S.A')\n",
    "\n",
    "\n",
    "ax.set_ylabel('Tiempo')\n",
    "ax.set_title('Comparacion de Costos de los algoritmos')\n",
    "ax.set_xticks(x)\n",
    "ax.set_xticklabels(ciudades)\n",
    "\n",
    "ax.legend()\n",
    "\n",
    "def autolabel(rects):\n",
    "    \"\"\"Funcion para agregar una etiqueta con el valor en cada barra\"\"\"\n",
    "    for rect in rects:\n",
    "        height = rect.get_height()\n",
    "        ax.annotate('{}'.format(height),\n",
    "                    xy=(rect.get_x() + rect.get_width() / 2, height),\n",
    "                    xytext=(0, 3),  # 3 points vertical offset\n",
    "                    textcoords=\"offset points\",\n",
    "                    ha='center', va='bottom')\n",
    "\n",
    "autolabel(rects1)\n",
    "autolabel(rects2)\n",
    "fig.tight_layout()\n",
    "fig.set_size_inches(12, 6)\n",
    "plt.savefig('doble_barra.png')\n",
    "\n",
    "plt.show()"
   ]
  },
  {
   "cell_type": "markdown",
   "metadata": {},
   "source": [
    "### Análisis de Datos "
   ]
  },
  {
   "cell_type": "markdown",
   "metadata": {},
   "source": [
    "**Comportamiento en las pruebas de costo** <br> <br>\n",
    "Por costo nos hemos estado refiriendo a la suma total en kilometros de la ruta que va a seguir el vendedor viajero. <br>\n",
    "En la tabla se logra observar que en la columna de la \"Diferencia\" (resta del costo obtenido con el algoritmo genético menos el algoritmo simulated annealing) se muestran valores negativos, en cada una de las ciudades, lo cual nos indica que las soluciones generadas por el algoritmo genético son mucho más cortas en términos de recorrido o distancia, por ende, son mucho más eficientes. <br>"
   ]
  },
  {
   "cell_type": "markdown",
   "metadata": {},
   "source": [
    "**Comportamiento en las pruebas de tiempo de procesador** <br> <br>\n",
    "Por otro lado, tenemos pruebas relacionadas a la duración de la ejecución de nuestros algoritmos, esto se realiza con el objetivo de descubrir el algoritmo con comportamiento más rápido, o sea, el que consume menos recursos de nuestro computador. <br>\n",
    "En la tabla generada en la sección mencionada anteriormente podemos contemplar que en la columna de la \"Diferencia\" (resta del tiempo obtenido con el algoritmo genético menos el algoritmo simulated annealing) los resultados se muestran positivos en su totalidad, en cada una de las ciudades. <br>\n",
    "Esto indica que nuestro algoritmo de simulated annealing muestra una considerable ventaja con respecto a su contricante, el algoritmo genético, esta siendo de un segundo aproximadamente.  <br>\n",
    "Esto pudiese parecer poco tiempo en términos cotidianos, sin embargo, en el campo de la computación, representa un lapso bastante grande, ya que cada micro y nanosegundo se ve reflejado en el tiempo de ejecución y procesamiento, además, en casos extremos donde se reciban entradas grandes, esta acumulación de segundos podría mostrar un problema importante a la hora de obtener resultados que posiblemente se necesiten de forma casi inmediata. "
   ]
  },
  {
   "cell_type": "markdown",
   "metadata": {},
   "source": [
    "## 6. Conclusiones"
   ]
  },
  {
   "cell_type": "markdown",
   "metadata": {},
   "source": [
    "Como se muestra en los gráficos podemos determinar que ambos procesos son eficientes en diferentes maneras, el algoritmo de *simulated annealing* nos brinda una mejor respuesta en lo que respecta al tiempo, sin embargo el *algoritmo genético* da una respuesta más cercana a la ruta más corta. <br>\n",
    "Por lo tanto podemos concluir que ambos son eficientes a su modo, pero nuestro caso del Problema del vendedor viajero sería mejor usar el algoritmo genético, tomando en cuenta que este último genera un mayor consumo de recursos. <br>\n",
    "Con esto  concluimos que nuestra hipotesis inicial es verdadera ya que podemos afirmar que el algoritmo genético es más óptimo en cuanto a distancia recorrida."
   ]
  },
  {
   "cell_type": "markdown",
   "metadata": {},
   "source": [
    "## 7. Referencias "
   ]
  },
  {
   "cell_type": "markdown",
   "metadata": {},
   "source": [
    "- Cormen T., Leiserson C., Rivest R. y Stein C. (2009) Introduction to Algorithms (2da ed.). MIT Press.\n",
    "- Van Laarhoven, P. J., & Aarts, E. H. (1987). Simulated annealing. In Simulated annealing: Theory and applications (pp. 7-15). Springer, Dordrecht.\n",
    "- Sivanandam, S. N., & Deepa, S. N. (2008). Genetic algorithms. In Introduction to genetic algorithms (pp. 15-37). Springer, Berlin, Heidelberg."
   ]
  }
 ],
 "metadata": {
  "kernelspec": {
   "display_name": "Python 3",
   "language": "python",
   "name": "python3"
  },
  "language_info": {
   "codemirror_mode": {
    "name": "ipython",
    "version": 3
   },
   "file_extension": ".py",
   "mimetype": "text/x-python",
   "name": "python",
   "nbconvert_exporter": "python",
   "pygments_lexer": "ipython3",
   "version": "3.8.6"
  }
 },
 "nbformat": 4,
 "nbformat_minor": 4
}
