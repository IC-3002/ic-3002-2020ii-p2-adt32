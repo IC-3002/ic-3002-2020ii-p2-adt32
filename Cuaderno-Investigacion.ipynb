{
 "cells": [
  {
   "cell_type": "markdown",
   "metadata": {},
   "source": [
    "# Algoritmo Del Vendedor Viajero - Proyecto II \n"
   ]
  },
  {
   "cell_type": "markdown",
   "metadata": {},
   "source": [
    "## 1. Pregunta De Investigación "
   ]
  },
  {
   "cell_type": "markdown",
   "metadata": {},
   "source": [
    "¿Cómo se compara el desempeño del algoritmo simulated annealing con el desempeño del algoritmo genético en la resolución del problema del vendedor viajero para 17 localidades en Costa Rica?"
   ]
  },
  {
   "cell_type": "markdown",
   "metadata": {},
   "source": [
    "## 2. Preguntas Secundarias  De Investigación"
   ]
  },
  {
   "cell_type": "markdown",
   "metadata": {},
   "source": [
    "- ¿Cuál es la configuración de parámetros recomendada para resolver el\n",
    "  problema con el algoritmo simulated annealing? ¿Por qué?\n",
    "  \n",
    "  \n",
    "- ¿Cuál es la configuración de parámetros recomendada para resolver el\n",
    "  problema con el algoritmo genético? ¿Por qué?"
   ]
  },
  {
   "cell_type": "markdown",
   "metadata": {},
   "source": [
    "## 3. Problema"
   ]
  },
  {
   "cell_type": "markdown",
   "metadata": {},
   "source": [
    "El problema del vendedor  viajero se trata de  crear un algoritmo que busque la ruta mas optima  entre n cantidades de ciudades visitando cada ciudad  exactamente una vez  y finalizando la ruta en la ciudad  donde comenzo. Se utilizaran dos metodos de algoritmos diferentes , el primero será un algoritmo de simulated annealing y el segundo un algoritmo genético. "
   ]
  },
  {
   "cell_type": "markdown",
   "metadata": {},
   "source": [
    "### Alcances  y Delimitaciones"
   ]
  },
  {
   "cell_type": "markdown",
   "metadata": {},
   "source": [
    "Los algoritmos de  simulated  annnealing y genetico utilizan un estilo similar la idea  de estos algoritmos es comenzar  con dos o mas  soluciones al azar  y ir comparando y modificando estas  soluciones con base a su rendimiento, para  asi al final encontrar una solucion optima. Esto permite que apesar  de comenzar con soluciones  al azar estos algoritmos nos dan soluciones optimas que funcionan de muy buena manera. Estos algoritmos utilizan bastantes recursos, pero nos permiten encontrar soluciones que resuelven problemas complicados que de otra manera se nos dificultarían mas. "
   ]
  },
  {
   "cell_type": "markdown",
   "metadata": {},
   "source": [
    "### Hipótesis (ARREGLAR)"
   ]
  },
  {
   "cell_type": "markdown",
   "metadata": {},
   "source": [
    "El algoritmo de  simulated annealing tiene un desempeño mejor que el el algoritmo genetico , ya que para  el problema del vendedor viajero se busca la ruta mas rapida  y eficiente para  llegar a su destino debido a que el algoritmo simulated annealing  es un algoritmo de solucion unica y el algoritmo genetico es  de solucion  multiple y para  este problema se desempeña mejor un algoritmo de solucion unica."
   ]
  },
  {
   "cell_type": "markdown",
   "metadata": {},
   "source": [
    "## 4. Metodología (ARREGLAR)"
   ]
  },
  {
   "cell_type": "markdown",
   "metadata": {},
   "source": [
    "Debido a ya anteriores trabajos de comparación del algoritmos para poner a prueba\n",
    "uno con otro les pondremos a trabajar bajo los mismos parametros. ¿Como los mediremos? -Es\n",
    "aquí donde entra la biblioteca Big_O donde gracias a ella podremos registrar no solo su \n",
    "comportamiento, sino tambien sus tiempos de ejecución y el que se desempeñe de mejor manera\n",
    "le podremos considerar como el mejor."
   ]
  },
  {
   "cell_type": "markdown",
   "metadata": {},
   "source": [
    "# Propuesta De Experimentos"
   ]
  },
  {
   "cell_type": "markdown",
   "metadata": {},
   "source": [
    "Especificaciones promedio para TODOS los experimentos propuestos debido a que todos se evaluaran con la función Big_O:\n",
    "\n",
    "Para su obtener resultados lo más acercados a lo propuesto se necesita una maquina: HP con 8gb de RAM, 1 TERA de almacenamiento en disco, y un procesador AMD Ryzen 3\n",
    "\n",
    "- Contar con una distribución de linux de la rama Debian, como S.O.\n",
    "- Contar con la versión de Python 3.8\n",
    "- Contar con Pip instalado previamente\n",
    "- Descargar la versión más reciente de la biblioteca big_o con:"
   ]
  },
  {
   "cell_type": "code",
   "execution_count": 1,
   "metadata": {},
   "outputs": [
    {
     "name": "stdout",
     "output_type": "stream",
     "text": [
      "Collecting big-O\n",
      "  Downloading https://files.pythonhosted.org/packages/ba/6f/fb4701ad6f11c6774a3c68bd4efb282223b3be7b7e0cf1c858d04f8797c9/big_O-0.10.1.tar.gz\n",
      "Collecting numpy (from big-O)\n",
      "  Downloading https://files.pythonhosted.org/packages/a6/fc/36e52d0ae2aa502b211f1bcd2fdeec72d343d58224eabcdddc1bcb052db1/numpy-1.19.4-cp36-cp36m-manylinux1_x86_64.whl (13.4MB)\n",
      "\u001b[K    100% |████████████████████████████████| 13.4MB 80kB/s  eta 0:00:01  16% |█████▎                          | 2.2MB 4.9MB/s eta 0:00:03    69% |██████████████████████▍         | 9.3MB 4.3MB/s eta 0:00:01\n",
      "\u001b[?25hBuilding wheels for collected packages: big-O\n",
      "  Running setup.py bdist_wheel for big-O ... \u001b[?25ldone\n",
      "\u001b[?25h  Stored in directory: /home/bryan/.cache/pip/wheels/36/af/12/29e5b6cf5e96db4ce058d14c60c18915c7e7bec5c22bbb5d0b\n",
      "Successfully built big-O\n",
      "Installing collected packages: numpy, big-O\n",
      "Successfully installed big-O-0.10.1 numpy-1.19.4\n",
      "Note: you may need to restart the kernel to use updated packages.\n"
     ]
    }
   ],
   "source": [
    "pip install big-O"
   ]
  },
  {
   "cell_type": "code",
   "execution_count": 2,
   "metadata": {},
   "outputs": [
    {
     "name": "stdout",
     "output_type": "stream",
     "text": [
      "Collecting prettytable\n",
      "  Downloading https://files.pythonhosted.org/packages/94/d5/52e48f3bcf66f838d411ad85c3ac9550c2451d082623e2d4d4df7411ed5c/prettytable-2.0.0-py3-none-any.whl\n",
      "Collecting wcwidth (from prettytable)\n",
      "  Using cached https://files.pythonhosted.org/packages/59/7c/e39aca596badaf1b78e8f547c807b04dae603a433d3e7a7e04d67f2ef3e5/wcwidth-0.2.5-py2.py3-none-any.whl\n",
      "Collecting setuptools (from prettytable)\n",
      "  Using cached https://files.pythonhosted.org/packages/3d/f2/1489d3b6c72d68bf79cd0fba6b6c7497df4ebf7d40970e2d7eceb8d0ea9c/setuptools-51.0.0-py3-none-any.whl\n",
      "Installing collected packages: wcwidth, setuptools, prettytable\n",
      "Successfully installed prettytable-2.0.0 setuptools-51.0.0 wcwidth-0.2.5\n",
      "Note: you may need to restart the kernel to use updated packages.\n"
     ]
    }
   ],
   "source": [
    "pip install -U prettytable"
   ]
  },
  {
   "cell_type": "code",
   "execution_count": 3,
   "metadata": {},
   "outputs": [
    {
     "name": "stdout",
     "output_type": "stream",
     "text": [
      "Collecting pylab-sdk\n",
      "  Downloading https://files.pythonhosted.org/packages/ed/67/9a73c2b0144314da579e8c61ab8beaff55905d68caed86e5de2460505329/pylab_sdk-1.3.2-py3-none-any.whl\n",
      "Installing collected packages: pylab-sdk\n",
      "Successfully installed pylab-sdk-1.3.2\n",
      "Note: you may need to restart the kernel to use updated packages.\n"
     ]
    }
   ],
   "source": [
    "pip install pylab-sdk"
   ]
  },
  {
   "cell_type": "code",
   "execution_count": 4,
   "metadata": {},
   "outputs": [
    {
     "name": "stdout",
     "output_type": "stream",
     "text": [
      "Collecting matplotlib\n",
      "  Downloading https://files.pythonhosted.org/packages/d2/43/2bd63467490036697e7be71444fafc7b236923d614d4521979a200c6b559/matplotlib-3.3.3-cp36-cp36m-manylinux1_x86_64.whl (11.6MB)\n",
      "\u001b[K    100% |████████████████████████████████| 11.6MB 89kB/s eta 0:00:011\n",
      "\u001b[?25hCollecting pillow>=6.2.0 (from matplotlib)\n",
      "  Downloading https://files.pythonhosted.org/packages/5f/19/d4c25111d36163698396f93c363114cf1cddbacb24744f6612f25b6aa3d0/Pillow-8.0.1-cp36-cp36m-manylinux1_x86_64.whl (2.2MB)\n",
      "\u001b[K    100% |████████████████████████████████| 2.2MB 377kB/s ta 0:00:011\n",
      "\u001b[?25hCollecting pyparsing!=2.0.4,!=2.1.2,!=2.1.6,>=2.0.3 (from matplotlib)\n",
      "  Using cached https://files.pythonhosted.org/packages/8a/bb/488841f56197b13700afd5658fc279a2025a39e22449b7cf29864669b15d/pyparsing-2.4.7-py2.py3-none-any.whl\n",
      "Collecting cycler>=0.10 (from matplotlib)\n",
      "  Downloading https://files.pythonhosted.org/packages/f7/d2/e07d3ebb2bd7af696440ce7e754c59dd546ffe1bbe732c8ab68b9c834e61/cycler-0.10.0-py2.py3-none-any.whl\n",
      "Collecting python-dateutil>=2.1 (from matplotlib)\n",
      "  Using cached https://files.pythonhosted.org/packages/d4/70/d60450c3dd48ef87586924207ae8907090de0b306af2bce5d134d78615cb/python_dateutil-2.8.1-py2.py3-none-any.whl\n",
      "Collecting kiwisolver>=1.0.1 (from matplotlib)\n",
      "  Downloading https://files.pythonhosted.org/packages/a7/1b/cbd8ae738719b5f41592a12057ef5442e2ed5f5cb5451f8fc7e9f8875a1a/kiwisolver-1.3.1-cp36-cp36m-manylinux1_x86_64.whl (1.1MB)\n",
      "\u001b[K    100% |████████████████████████████████| 1.1MB 563kB/s ta 0:00:011\n",
      "\u001b[?25hCollecting numpy>=1.15 (from matplotlib)\n",
      "  Using cached https://files.pythonhosted.org/packages/a6/fc/36e52d0ae2aa502b211f1bcd2fdeec72d343d58224eabcdddc1bcb052db1/numpy-1.19.4-cp36-cp36m-manylinux1_x86_64.whl\n",
      "Collecting six (from cycler>=0.10->matplotlib)\n",
      "  Using cached https://files.pythonhosted.org/packages/ee/ff/48bde5c0f013094d729fe4b0316ba2a24774b3ff1c52d924a8a4cb04078a/six-1.15.0-py2.py3-none-any.whl\n",
      "Installing collected packages: pillow, pyparsing, six, cycler, python-dateutil, kiwisolver, numpy, matplotlib\n",
      "Successfully installed cycler-0.10.0 kiwisolver-1.3.1 matplotlib-3.3.3 numpy-1.19.4 pillow-8.0.1 pyparsing-2.4.7 python-dateutil-2.8.1 six-1.15.0\n",
      "Note: you may need to restart the kernel to use updated packages.\n"
     ]
    }
   ],
   "source": [
    "pip install -U matplotlib"
   ]
  },
  {
   "cell_type": "code",
   "execution_count": 5,
   "metadata": {
    "scrolled": true
   },
   "outputs": [
    {
     "name": "stdout",
     "output_type": "stream",
     "text": [
      "Collecting requests\n",
      "  Using cached https://files.pythonhosted.org/packages/39/fc/f91eac5a39a65f75a7adb58eac7fa78871ea9872283fb9c44e6545998134/requests-2.25.0-py2.py3-none-any.whl\n",
      "Collecting chardet<4,>=3.0.2 (from requests)\n",
      "  Using cached https://files.pythonhosted.org/packages/bc/a9/01ffebfb562e4274b6487b4bb1ddec7ca55ec7510b22e4c51f14098443b8/chardet-3.0.4-py2.py3-none-any.whl\n",
      "Collecting certifi>=2017.4.17 (from requests)\n",
      "  Using cached https://files.pythonhosted.org/packages/5e/a0/5f06e1e1d463903cf0c0eebeb751791119ed7a4b3737fdc9a77f1cdfb51f/certifi-2020.12.5-py2.py3-none-any.whl\n",
      "Collecting idna<3,>=2.5 (from requests)\n",
      "  Using cached https://files.pythonhosted.org/packages/a2/38/928ddce2273eaa564f6f50de919327bf3a00f091b5baba8dfa9460f3a8a8/idna-2.10-py2.py3-none-any.whl\n",
      "Collecting urllib3<1.27,>=1.21.1 (from requests)\n",
      "  Using cached https://files.pythonhosted.org/packages/f5/71/45d36a8df68f3ebb098d6861b2c017f3d094538c0fb98fa61d4dc43e69b9/urllib3-1.26.2-py2.py3-none-any.whl\n",
      "Installing collected packages: chardet, certifi, idna, urllib3, requests\n",
      "Successfully installed certifi-2020.12.5 chardet-3.0.4 idna-2.10 requests-2.25.0 urllib3-1.26.2\n",
      "Note: you may need to restart the kernel to use updated packages.\n"
     ]
    }
   ],
   "source": [
    "pip install requests"
   ]
  },
  {
   "cell_type": "markdown",
   "metadata": {},
   "source": [
    "## Competencia en costos"
   ]
  },
  {
   "cell_type": "code",
   "execution_count": 59,
   "metadata": {
    "scrolled": false
   },
   "outputs": [
    {
     "name": "stdout",
     "output_type": "stream",
     "text": [
      "Nicoya Costo Genetico 1696.5\n",
      "Con la ruta: Nicoya -> Alajuela -> San Jose -> Puntarenas -> San Isidro del General -> Puerto Viejo Talamanca -> Limon -> Turrialba -> Cartago -> San Jose -> Heredia -> Guapiles -> Puerto Viejo Sarapiqui -> Ciudad Quesada -> Puntarenas -> Liberia -> Santa Cruz -> Nicoya\n",
      "\n",
      "Nicoya Costo S.A 3199.8999999999996\n",
      "Con la ruta: Nicoya -> Golfito -> San Isidro del General -> Guapiles -> Turrialba -> San Jose -> Santa Cruz -> Cartago -> Heredia -> Limon -> Quepos -> Ciudad Quesada -> Alajuela -> Puerto Viejo Talamanca -> Puerto Viejo Sarapiqui -> Puntarenas -> Liberia -> Nicoya\n",
      "\n",
      "------------------------------------------------\n",
      "Liberia Costo Genetico 1713.1999999999998\n",
      "Con la ruta: Liberia -> Santa Cruz -> Nicoya -> Puntarenas -> San Jose -> Alajuela -> Heredia -> Ciudad Quesada -> Puerto Viejo Sarapiqui -> Guapiles -> Limon -> Puerto Viejo Talamanca -> Turrialba -> Cartago -> San Isidro del General -> Golfito -> Quepos -> Liberia\n",
      "\n",
      "Liberia Costo S.A 3661.0\n",
      "Con la ruta: Liberia -> Puerto Viejo Talamanca -> San Jose -> Ciudad Quesada -> Puerto Viejo Sarapiqui -> Cartago -> Alajuela -> Golfito -> Turrialba -> San Isidro del General -> Quepos -> Guapiles -> Santa Cruz -> Limon -> Nicoya -> Puntarenas -> Heredia -> Liberia\n",
      "\n",
      "------------------------------------------------\n",
      "Limon Costo Genetico 1864.9\n",
      "Con la ruta: Limon -> Nicoya -> Santa Cruz -> Liberia -> Ciudad Quesada -> Puerto Viejo Sarapiqui -> San Jose -> San Isidro del General -> Golfito -> Quepos -> Puntarenas -> Alajuela -> Heredia -> Cartago -> Turrialba -> Guapiles -> Puerto Viejo Talamanca -> Limon\n",
      "\n",
      "Limon Costo S.A 3384.7\n",
      "Con la ruta: Limon -> San Jose -> Santa Cruz -> San Isidro del General -> Quepos -> Heredia -> Puntarenas -> Cartago -> Puerto Viejo Sarapiqui -> Ciudad Quesada -> Guapiles -> Golfito -> Puerto Viejo Talamanca -> Nicoya -> Liberia -> Alajuela -> Turrialba -> Limon\n",
      "\n",
      "------------------------------------------------\n",
      "Limon Costo Genetico 1677.1999999999998\n",
      "Con la ruta: Limon -> Guapiles -> Puerto Viejo Sarapiqui -> Ciudad Quesada -> Puntarenas -> Nicoya -> Santa Cruz -> Liberia -> Alajuela -> Heredia -> San Jose -> Cartago -> San Isidro del General -> Golfito -> Quepos -> Turrialba -> Puerto Viejo Talamanca -> Limon\n",
      "\n",
      "Limon Costo S.A 3593.3\n",
      "Con la ruta: Limon -> Heredia -> Alajuela -> Guapiles -> Puerto Viejo Sarapiqui -> Puntarenas -> Nicoya -> San Jose -> Turrialba -> Santa Cruz -> Golfito -> Ciudad Quesada -> Cartago -> Quepos -> San Isidro del General -> Puerto Viejo Talamanca -> Liberia -> Limon\n",
      "\n",
      "------------------------------------------------\n",
      "Ciudad Quesada Costo Genetico 1730.2\n",
      "Con la ruta: Ciudad Quesada -> Alajuela -> Heredia -> San Isidro del General -> Golfito -> Quepos -> Turrialba -> Limon -> Puerto Viejo Talamanca -> Guapiles -> Puerto Viejo Sarapiqui -> Cartago -> San Jose -> Puntarenas -> Nicoya -> Santa Cruz -> Liberia -> Ciudad Quesada\n",
      "\n",
      "Ciudad Quesada Costo S.A 3147.3\n",
      "Con la ruta: Ciudad Quesada -> Puntarenas -> Nicoya -> San Jose -> Quepos -> Puerto Viejo Talamanca -> Guapiles -> Alajuela -> Puerto Viejo Sarapiqui -> Santa Cruz -> San Isidro del General -> Golfito -> Turrialba -> Limon -> Heredia -> Cartago -> Liberia -> Ciudad Quesada\n",
      "\n",
      "------------------------------------------------\n"
     ]
    }
   ],
   "source": [
    "import big_o\n",
    "from big_o import complexities as cmpl\n",
    "from prettytable import PrettyTable\n",
    "from pylab import *\n",
    "from algoritmo_genetico import optimizar as oag\n",
    "from dominio_ag_tsp import DominioAGTSP\n",
    "\n",
    "from simulated_annealing import optimizar as osa\n",
    "from dominio_tsp import DominioTSP\n",
    "\n",
    "CANTIDAD_DE_ITERACIONES = 5\n",
    "\n",
    "#PRUEBAS EN COSTO\n",
    "\n",
    "for i in range(0, CANTIDAD_DE_ITERACIONES):\n",
    "    ciudad = dominioAG.cities[random.randint(0,16)]\n",
    "    dominioAG = DominioAGTSP('datos/ciudades_cr.csv', ciudad)\n",
    "    solAG = oag(dominioAG, 100, 0.1, 0.5, 1000)\n",
    "\n",
    "    #Cargaremos los dominios para el S.A\n",
    "    dominioSP = DominioTSP('datos/ciudades_cr.csv', ciudad)\n",
    "    solSP = osa(dominioSP)\n",
    "    \n",
    "    costoAGMejorSolucion = dominioAG.fcosto(solAG)\n",
    "    costoSPMejorSolucion = dominioSP.fcosto(solSP)\n",
    "    #AÑADIR A TABLA E IMPRIMIR TABLA\n",
    "    print(ciudad + ' Costo Genetico '+ str(costoAGMejorSolucion))\n",
    "    print(\"Con la ruta: \"+ dominioAG.texto(solAG))\n",
    "    print(\"\")\n",
    "    print(ciudad + ' Costo S.A '+ str(costoSPMejorSolucion))\n",
    "    print(\"Con la ruta: \"+ dominioSP.texto(solSP))\n",
    "    print(\"\")\n",
    "    print(\"------------------------------------------------\")\n"
   ]
  },
  {
   "cell_type": "markdown",
   "metadata": {},
   "source": [
    "## Competencia en Tiempos"
   ]
  },
  {
   "cell_type": "code",
   "execution_count": 58,
   "metadata": {},
   "outputs": [
    {
     "name": "stdout",
     "output_type": "stream",
     "text": [
      "Tiempo de ejecucion del algoritmo genetico con la ciudad Heredia || 2.733957999999916\n",
      "\n",
      "Tiempo de ejecucion del algoritmo S.A en la ciudad Heredia || 0.027917999999999665\n",
      "\n",
      "Tiempo de ejecucion del algoritmo genetico con la ciudad San Isidro del General || 2.7769609999999147\n",
      "\n",
      "Tiempo de ejecucion del algoritmo S.A en la ciudad San Isidro del General || 0.028761000000031345\n",
      "\n",
      "Tiempo de ejecucion del algoritmo genetico con la ciudad Puerto Viejo Sarapiqui || 2.611754000000019\n",
      "\n",
      "Tiempo de ejecucion del algoritmo S.A en la ciudad Puerto Viejo Sarapiqui || 0.030693999999925836\n",
      "\n",
      "Tiempo de ejecucion del algoritmo genetico con la ciudad Turrialba || 3.0867370000000847\n",
      "\n",
      "Tiempo de ejecucion del algoritmo S.A en la ciudad Turrialba || 0.032765999999924134\n",
      "\n",
      "Tiempo de ejecucion del algoritmo genetico con la ciudad Golfito || 2.69542899999999\n",
      "\n",
      "Tiempo de ejecucion del algoritmo S.A en la ciudad Golfito || 0.028090000000020154\n",
      "\n"
     ]
    }
   ],
   "source": [
    "import time\n",
    "\n",
    "#Añadir A tabla\n",
    "CANTIDAD_DE_ITERACIONES = 5\n",
    "for i in range(0, CANTIDAD_DE_ITERACIONES):\n",
    "    \n",
    "    ciudad = dominioAG.cities[random.randint(0,16)]\n",
    "    dominioAG = DominioAGTSP('datos/ciudades_cr.csv', ciudad)\n",
    "    #Cargaremos los dominios para el S.A\n",
    "    dominioSP = DominioTSP('datos/ciudades_cr.csv', ciudad)\n",
    "    \n",
    "    \n",
    "    inicioAG = time.clock() \n",
    "    x = oag(dominioAG, 100, 0.1, 0.5, 1000)\n",
    "    deltaAG = time.clock() - inicioAG \n",
    "    print('Tiempo de ejecucion del algoritmo genetico con la ciudad '+ciudad+\" || \"+str(deltaAG))\n",
    "    print(\"\")\n",
    "    inicioSA = time.clock() \n",
    "    y = osa(dominioSP)\n",
    "    deltaSA = time.clock() - inicioSA\n",
    "    print('Tiempo de ejecucion del algoritmo S.A en la ciudad '+ciudad+\" || \"+str(deltaSA))\n",
    "    print(\"\")\n",
    "\n",
    "\n"
   ]
  },
  {
   "cell_type": "markdown",
   "metadata": {},
   "source": [
    "## 6. Conclusiones"
   ]
  },
  {
   "cell_type": "markdown",
   "metadata": {},
   "source": [
    "## 7. Referencias "
   ]
  }
 ],
 "metadata": {
  "kernelspec": {
   "display_name": "Python 3",
   "language": "python",
   "name": "python3"
  },
  "language_info": {
   "codemirror_mode": {
    "name": "ipython",
    "version": 3
   },
   "file_extension": ".py",
   "mimetype": "text/x-python",
   "name": "python",
   "nbconvert_exporter": "python",
   "pygments_lexer": "ipython3",
   "version": "3.6.9"
  }
 },
 "nbformat": 4,
 "nbformat_minor": 4
}
