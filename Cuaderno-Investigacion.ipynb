{
 "cells": [
  {
   "cell_type": "markdown",
   "metadata": {},
   "source": [
    "# Algoritmo Del Vendedor Viajero - Proyecto II \n"
   ]
  },
  {
   "cell_type": "markdown",
   "metadata": {},
   "source": [
    "## 1. Pregunta De Investigación "
   ]
  },
  {
   "cell_type": "markdown",
   "metadata": {},
   "source": [
    "¿Cómo se compara el desempeño del algoritmo simulated annealing con el desempeño del algoritmo genético en la resolución del problema del vendedor viajero para 17 localidades en Costa Rica?"
   ]
  },
  {
   "cell_type": "markdown",
   "metadata": {},
   "source": [
    "## 2. Preguntas Secundarias  De Investigación"
   ]
  },
  {
   "cell_type": "markdown",
   "metadata": {},
   "source": [
    "- ¿Cuál es la configuración de parámetros recomendada para resolver el\n",
    "  problema con el algoritmo simulated annealing? ¿Por qué?\n",
    "  \n",
    "  \n",
    "- ¿Cuál es la configuración de parámetros recomendada para resolver el\n",
    "  problema con el algoritmo genético? ¿Por qué?"
   ]
  },
  {
   "cell_type": "markdown",
   "metadata": {},
   "source": [
    "## 3. Problema"
   ]
  },
  {
   "cell_type": "markdown",
   "metadata": {},
   "source": [
    "El problema del vendedor  viajero se trata de  crear un algoritmo que busque la ruta mas optima  entre n cantidades de ciudades visitando cada ciudad  exactamente una vez  y finalizando la ruta en la ciudad  donde comenzo. Se utilizaran dos metodos de algoritmos diferentes , el primero será un algoritmo de simulated annealing y el segundo un algoritmo genético. "
   ]
  },
  {
   "cell_type": "markdown",
   "metadata": {},
   "source": [
    "### Alcances  y Delimitaciones"
   ]
  },
  {
   "cell_type": "markdown",
   "metadata": {},
   "source": [
    "Los algoritmos de  simulated  annnealing y genetico utilizan un estilo similar la idea  de estos algoritmos es comenzar  con dos o mas  soluciones al azar  y ir comparando y modificando estas  soluciones con base a su rendimiento, para  asi al final encontrar una solucion optima. Esto permite que apesar  de comenzar con soluciones  al azar estos algoritmos nos dan soluciones optimas que funcionan de muy buena manera. Estos algoritmos utilizan bastantes recursos, pero nos permiten encontrar soluciones que resuelven problemas complicados que de otra manera se nos dificultarían mas. "
   ]
  },
  {
   "cell_type": "markdown",
   "metadata": {},
   "source": [
    "### Hipótesis"
   ]
  },
  {
   "cell_type": "markdown",
   "metadata": {},
   "source": [
    "El algoritmo genético genera una solución más óptima en cuanto a distancia recorrida se refiere, debido a sus raíces provenientes del darwinismo o selección natural, en donde se inicia considerando un gran grupo de posibles resultados y se van generando diversas filtraciones, eliminando todo aquello que pareciera no cumplir con un buen rendimiento; sin embargo, esto genera que su tiempo de ejecución sea mayor en comparación a su contrincante, por lo que, si el tiempo no representa un problema, este será la opción conveniente, pero si lo que queremos es generar un camino a mayor velocidad de procesador, simulated annealing es el ganador. "
   ]
  },
  {
   "cell_type": "markdown",
   "metadata": {},
   "source": [
    "## 4. Metodología"
   ]
  },
  {
   "cell_type": "markdown",
   "metadata": {},
   "source": [
    "Para comparar el algoritmo genetico y simulated annealing vamos a utilizar  el csv con 17 ciudades, se procesara con las funciones DominioAGTSP(Csv,Ciudad)  para generar una matriz en el algoritmo genetico, donde su primer parametro es la ruta del archivo csv y su segundo parametro es el nombre de la ciudad inicial, y DominioTSP para la matriz de simulated annealing que tiene los mismos parametros. \n",
    "\n",
    "Se ejecutaran los algoritmos 17 veces(Cantidad_de_iteraciones) con cada una de las ciudades que se encuentran en el archivo. Primeramente se haran pruebas con respecto al costo total del resultado(ruta).Usaremos la funcion fcosto(x)(que recibe como parametro el resultado del algoritmo) para determinar el costo de cada solucion. Luego se introduciran esos costos en una tabla utilizando la biblioteca prettytable para visualizar de manera sencilla cual algoritmo es mas eficiente.\n",
    "\n",
    "Despues se haran de nuevo las pruebas pero esta vez con respecto al tiempo de ejecucion de los algoritmos. Para calcular el tiempo de ejecucion de cada algoritmo se hara uso de la funcion time.process_time() con el fin de saber el tiempo de ejecucion del programa hasta el momento. Se ejecutara la funcion y se guardara el resultado antes y despues de correr el algoritmo correspondiente para posteriormente restar los tiempos y asi calcular el tiempo de ejecucion del algoritmo. Despues se introduciran los tiempos de ejecucion en una tabla para comparar de manera sencilla los tiempos de ambos algoritmos."
   ]
  },
  {
   "cell_type": "markdown",
   "metadata": {},
   "source": [
    "## 5. Propuesta De Experimentos"
   ]
  },
  {
   "cell_type": "markdown",
   "metadata": {},
   "source": [
    "Especificaciones promedio para TODOS los experimentos propuestos debido a que todos se evaluaran con la función Big_O:\n",
    "\n",
    "Para su obtener resultados lo más acercados a lo propuesto se necesita una maquina: HP con 8gb de RAM, 1 TERA de almacenamiento en disco, y un procesador AMD Ryzen 3\n",
    "\n",
    "- Contar con una distribución de linux de la rama Debian, como S.O.\n",
    "- Contar con la versión de Python 3.8\n",
    "- Contar con Pip instalado previamente\n",
    "- Descargar la versión más reciente de la biblioteca big_o con:"
   ]
  },
  {
   "cell_type": "code",
   "execution_count": 1,
   "metadata": {},
   "outputs": [
    {
     "name": "stdout",
     "output_type": "stream",
     "text": [
      "Defaulting to user installation because normal site-packages is not writeable\n",
      "Requirement already satisfied: big-O in /home/andres/.local/lib/python3.8/site-packages (0.10.1)\n",
      "Requirement already satisfied: numpy in /home/andres/.local/lib/python3.8/site-packages (from big-O) (1.17.4)\n",
      "\u001b[33mWARNING: You are using pip version 20.2.3; however, version 20.3.1 is available.\n",
      "You should consider upgrading via the '/usr/bin/python3 -m pip install --upgrade pip' command.\u001b[0m\n",
      "Note: you may need to restart the kernel to use updated packages.\n"
     ]
    }
   ],
   "source": [
    "pip install big-O"
   ]
  },
  {
   "cell_type": "code",
   "execution_count": 2,
   "metadata": {},
   "outputs": [
    {
     "name": "stdout",
     "output_type": "stream",
     "text": [
      "Defaulting to user installation because normal site-packages is not writeable\n",
      "Requirement already up-to-date: prettytable in /home/andres/.local/lib/python3.8/site-packages (2.0.0)\n",
      "Requirement already satisfied, skipping upgrade: wcwidth in /home/andres/.local/lib/python3.8/site-packages (from prettytable) (0.1.7)\n",
      "Requirement already satisfied, skipping upgrade: setuptools in /usr/lib/python3/dist-packages (from prettytable) (45.2.0)\n",
      "\u001b[33mWARNING: You are using pip version 20.2.3; however, version 20.3.1 is available.\n",
      "You should consider upgrading via the '/usr/bin/python3 -m pip install --upgrade pip' command.\u001b[0m\n",
      "Note: you may need to restart the kernel to use updated packages.\n"
     ]
    }
   ],
   "source": [
    "pip install -U prettytable"
   ]
  },
  {
   "cell_type": "code",
   "execution_count": 3,
   "metadata": {},
   "outputs": [
    {
     "name": "stdout",
     "output_type": "stream",
     "text": [
      "Defaulting to user installation because normal site-packages is not writeable\n",
      "Requirement already satisfied: pylab-sdk in /home/andres/.local/lib/python3.8/site-packages (1.3.2)\n",
      "\u001b[33mWARNING: You are using pip version 20.2.3; however, version 20.3.1 is available.\n",
      "You should consider upgrading via the '/usr/bin/python3 -m pip install --upgrade pip' command.\u001b[0m\n",
      "Note: you may need to restart the kernel to use updated packages.\n"
     ]
    }
   ],
   "source": [
    "pip install pylab-sdk"
   ]
  },
  {
   "cell_type": "code",
   "execution_count": 4,
   "metadata": {},
   "outputs": [
    {
     "name": "stdout",
     "output_type": "stream",
     "text": [
      "Defaulting to user installation because normal site-packages is not writeable\n",
      "Requirement already up-to-date: matplotlib in /home/andres/.local/lib/python3.8/site-packages (3.3.3)\n",
      "Requirement already satisfied, skipping upgrade: kiwisolver>=1.0.1 in /home/andres/.local/lib/python3.8/site-packages (from matplotlib) (1.2.0)\n",
      "Requirement already satisfied, skipping upgrade: cycler>=0.10 in /home/andres/.local/lib/python3.8/site-packages (from matplotlib) (0.10.0)\n",
      "Requirement already satisfied, skipping upgrade: python-dateutil>=2.1 in /home/andres/.local/lib/python3.8/site-packages (from matplotlib) (2.8.1)\n",
      "Requirement already satisfied, skipping upgrade: numpy>=1.15 in /home/andres/.local/lib/python3.8/site-packages (from matplotlib) (1.17.4)\n",
      "Requirement already satisfied, skipping upgrade: pillow>=6.2.0 in /usr/lib/python3/dist-packages (from matplotlib) (7.0.0)\n",
      "Requirement already satisfied, skipping upgrade: pyparsing!=2.0.4,!=2.1.2,!=2.1.6,>=2.0.3 in /home/andres/.local/lib/python3.8/site-packages (from matplotlib) (2.4.5)\n",
      "Requirement already satisfied, skipping upgrade: six in /home/andres/.local/lib/python3.8/site-packages (from cycler>=0.10->matplotlib) (1.13.0)\n",
      "\u001b[33mWARNING: You are using pip version 20.2.3; however, version 20.3.1 is available.\n",
      "You should consider upgrading via the '/usr/bin/python3 -m pip install --upgrade pip' command.\u001b[0m\n",
      "Note: you may need to restart the kernel to use updated packages.\n"
     ]
    }
   ],
   "source": [
    "pip install -U matplotlib"
   ]
  },
  {
   "cell_type": "code",
   "execution_count": 5,
   "metadata": {
    "scrolled": true
   },
   "outputs": [
    {
     "name": "stdout",
     "output_type": "stream",
     "text": [
      "Defaulting to user installation because normal site-packages is not writeable\n",
      "Requirement already satisfied: requests in /usr/lib/python3/dist-packages (2.22.0)\n",
      "\u001b[33mWARNING: You are using pip version 20.2.3; however, version 20.3.1 is available.\n",
      "You should consider upgrading via the '/usr/bin/python3 -m pip install --upgrade pip' command.\u001b[0m\n",
      "Note: you may need to restart the kernel to use updated packages.\n"
     ]
    }
   ],
   "source": [
    "pip install requests"
   ]
  },
  {
   "cell_type": "markdown",
   "metadata": {},
   "source": [
    "### Competencia en costos"
   ]
  },
  {
   "cell_type": "code",
   "execution_count": 6,
   "metadata": {
    "scrolled": false
   },
   "outputs": [
    {
     "name": "stdout",
     "output_type": "stream",
     "text": [
      "+------------------------+--------------------+--------------------+---------------------+\n",
      "|    Ciudad de Inicio    |   Costo Genetico   |     Costo S.A      |      Diferencia     |\n",
      "+------------------------+--------------------+--------------------+---------------------+\n",
      "|        Liberia         | 1790.1000000000001 |       3504.9       |       -1714.8       |\n",
      "|       Santa Cruz       |       1746.5       |       3808.9       |       -2062.4       |\n",
      "|         Nicoya         |       1965.1       |       3782.0       |       -1816.9       |\n",
      "|     Ciudad Quesada     |       1758.5       |       3702.0       |       -1943.5       |\n",
      "|        Alajuela        |       1658.6       |       3751.6       |       -2093.0       |\n",
      "|        Heredia         |       1818.3       | 4011.7999999999997 |       -2193.5       |\n",
      "| Puerto Viejo Sarapiqui | 1929.3999999999996 |       3879.2       | -1949.8000000000002 |\n",
      "|        San Jose        | 1670.3999999999999 |       4002.3       | -2331.9000000000005 |\n",
      "| San Isidro del General |       1860.8       |       4098.0       |       -2237.2       |\n",
      "|       Puntarenas       |       1917.5       |       3781.7       | -1864.1999999999998 |\n",
      "|         Quepos         | 1626.2999999999997 |       3785.8       | -2159.5000000000005 |\n",
      "|        Golfito         | 1928.1000000000001 |       3684.9       |       -1756.8       |\n",
      "|        Cartago         | 1798.6999999999998 |       3602.4       | -1803.7000000000003 |\n",
      "|       Turrialba        |       1671.5       | 3157.1000000000004 | -1485.6000000000004 |\n",
      "|        Guapiles        |       1845.3       |       3749.0       |       -1903.7       |\n",
      "|         Limon          |       1805.3       |       4017.0       |       -2211.7       |\n",
      "| Puerto Viejo Talamanca |       1709.0       |       3558.4       |       -1849.4       |\n",
      "+------------------------+--------------------+--------------------+---------------------+\n"
     ]
    }
   ],
   "source": [
    "import big_o\n",
    "from big_o import complexities as cmpl\n",
    "from prettytable import PrettyTable\n",
    "from pylab import *\n",
    "from algoritmo_genetico import optimizar as oag\n",
    "from dominio_ag_tsp import DominioAGTSP\n",
    "\n",
    "from simulated_annealing import optimizar as osa\n",
    "from dominio_tsp import DominioTSP\n",
    "\n",
    "CANTIDAD_DE_ITERACIONES = 17\n",
    "\n",
    "#PRUEBAS EN COSTO\n",
    "\n",
    "dominioAG = DominioAGTSP('datos/ciudades_cr.csv', 'Cartago')\n",
    "\n",
    "#Tabla\n",
    "tabla = PrettyTable(['Ciudad de Inicio', 'Costo Genetico', 'Costo S.A ', 'Diferencia'])\n",
    "\n",
    "\n",
    "\n",
    "\n",
    "for i in range(0, CANTIDAD_DE_ITERACIONES):\n",
    "    ciudad = dominioAG.cities[i]\n",
    "    dominioAG = DominioAGTSP('datos/ciudades_cr.csv', ciudad)\n",
    "    solAG = oag(dominioAG, 100, 0.1, 0.5, 1000)\n",
    "\n",
    "    #Cargaremos los dominios para el S.A\n",
    "    dominioSP = DominioTSP('datos/ciudades_cr.csv', ciudad)\n",
    "    solSP = osa(dominioSP)\n",
    "    \n",
    "    costoAGMejorSolucion = dominioAG.fcosto(solAG)\n",
    "    costoSPMejorSolucion = dominioSP.fcosto(solSP)\n",
    "    tabla.add_row([ciudad,str(costoAGMejorSolucion),str(costoSPMejorSolucion),str(costoAGMejorSolucion-costoSPMejorSolucion)])\n",
    "    #AÑADIR A TABLA E IMPRIMIR TABLA\n",
    "    \n",
    "print(tabla)"
   ]
  },
  {
   "cell_type": "markdown",
   "metadata": {},
   "source": [
    "### Competencia en Tiempos"
   ]
  },
  {
   "cell_type": "code",
   "execution_count": 7,
   "metadata": {},
   "outputs": [
    {
     "name": "stdout",
     "output_type": "stream",
     "text": [
      "+------------------------+---------------------------+----------------------+--------------------+\n",
      "|    Ciudad de Inicio    | Tiempo algoritmo genetico |      Tiempo S.A      |     Diferencia     |\n",
      "+------------------------+---------------------------+----------------------+--------------------+\n",
      "|        Liberia         |     1.3202283180000016    | 0.01697581099999823  | 1.3032525070000034 |\n",
      "|       Santa Cruz       |     1.890316470000002     | 0.013471151000000958 | 1.876845319000001  |\n",
      "|         Nicoya         |     1.5908514800000013    | 0.01623130800000183  | 1.5746201719999995 |\n",
      "|     Ciudad Quesada     |     1.5808409040000022    | 0.015477958000001735 | 1.5653629460000005 |\n",
      "|        Alajuela        |     1.5856501580000035    | 0.019215123000002166 | 1.5664350350000014 |\n",
      "|        Heredia         |     1.5837739850000006    | 0.016439574999999707 | 1.5673344100000008 |\n",
      "| Puerto Viejo Sarapiqui |     1.5921028189999973    | 0.018020130000003576 | 1.5740826889999937 |\n",
      "|        San Jose        |     1.602841472999998     | 0.016995921000003023 | 1.585845551999995  |\n",
      "| San Isidro del General |     1.391668793000001     | 0.01234147199999569  | 1.3793273210000052 |\n",
      "|       Puntarenas       |     1.5004065870000005    | 0.015859671000001185 | 1.4845469159999993 |\n",
      "|         Quepos         |     1.6404625400000015    | 0.01651809599999865  | 1.6239444440000028 |\n",
      "|        Golfito         |     1.5936147600000012    | 0.016851086999999154 | 1.576763673000002  |\n",
      "|        Cartago         |     1.2992887300000007    | 0.01257989799999848  | 1.2867088320000022 |\n",
      "|       Turrialba        |     1.5648918440000017    | 0.01680702199999473  | 1.548084822000007  |\n",
      "|        Guapiles        |     1.5990607279999978    | 0.019434191999998518 | 1.5796265359999992 |\n",
      "|         Limon          |     1.6209524020000003    | 0.017065549000001567 | 1.6038868529999988 |\n",
      "| Puerto Viejo Talamanca |     1.627701383999998     | 0.014767341999998962 | 1.6129340419999991 |\n",
      "+------------------------+---------------------------+----------------------+--------------------+\n"
     ]
    }
   ],
   "source": [
    "import time\n",
    "\n",
    "#Añadir A tabla\n",
    "CANTIDAD_DE_ITERACIONES = 17\n",
    "\n",
    "#Tabla\n",
    "tabla = PrettyTable(['Ciudad de Inicio', 'Tiempo algoritmo genetico', 'Tiempo S.A', 'Diferencia'])\n",
    "\n",
    "\n",
    "for i in range(0, CANTIDAD_DE_ITERACIONES):\n",
    "    \n",
    "    ciudad = dominioAG.cities[i]\n",
    "    dominioAG = DominioAGTSP('datos/ciudades_cr.csv', ciudad)\n",
    "    #Cargaremos los dominios para el S.A\n",
    "    dominioSP = DominioTSP('datos/ciudades_cr.csv', ciudad)\n",
    "    \n",
    "    \n",
    "    inicioAG = time.process_time()\n",
    "    x = oag(dominioAG, 100, 0.1, 0.5, 1000)\n",
    "    deltaAG = time.process_time() - inicioAG \n",
    "    inicioSA = time.process_time()\n",
    "    y = osa(dominioSP)\n",
    "    deltaSA = time.process_time() - inicioSA\n",
    "    tabla.add_row([ciudad,str(deltaAG),str(deltaSA),str(deltaAG-deltaSA)])\n",
    "print(tabla)"
   ]
  },
  {
   "cell_type": "markdown",
   "metadata": {},
   "source": [
    "## 6. Conclusiones"
   ]
  },
  {
   "cell_type": "markdown",
   "metadata": {},
   "source": [
    "## 7. Referencias "
   ]
  }
 ],
 "metadata": {
  "kernelspec": {
   "display_name": "Python 3",
   "language": "python",
   "name": "python3"
  },
  "language_info": {
   "codemirror_mode": {
    "name": "ipython",
    "version": 3
   },
   "file_extension": ".py",
   "mimetype": "text/x-python",
   "name": "python",
   "nbconvert_exporter": "python",
   "pygments_lexer": "ipython3",
   "version": "3.8.2"
  }
 },
 "nbformat": 4,
 "nbformat_minor": 4
}
