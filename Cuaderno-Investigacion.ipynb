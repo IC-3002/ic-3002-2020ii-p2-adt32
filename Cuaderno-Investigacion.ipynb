{
 "cells": [
  {
   "cell_type": "markdown",
   "metadata": {},
   "source": [
    "# Algoritmo Del Vendedor Viajero - Proyecto II \n"
   ]
  },
  {
   "cell_type": "markdown",
   "metadata": {},
   "source": [
    "## 1. Pregunta De Investigación "
   ]
  },
  {
   "cell_type": "markdown",
   "metadata": {},
   "source": [
    "¿Cómo se compara el desempeño del algoritmo simulated annealing con el desempeño del algoritmo genético en la resolución del problema del vendedor viajero para 17 localidades en Costa Rica?"
   ]
  },
  {
   "cell_type": "markdown",
   "metadata": {},
   "source": [
    "## 2. Preguntas Secundarias  De Investigación"
   ]
  },
  {
   "cell_type": "markdown",
   "metadata": {},
   "source": [
    "- ¿Cuál es la configuración de parámetros recomendada para resolver el\n",
    "  problema con el algoritmo simulated annealing? ¿Por qué?\n",
    "  \n",
    "  \n",
    "- ¿Cuál es la configuración de parámetros recomendada para resolver el\n",
    "  problema con el algoritmo genético? ¿Por qué?"
   ]
  },
  {
   "cell_type": "markdown",
   "metadata": {},
   "source": [
    "## 3. Problema"
   ]
  },
  {
   "cell_type": "markdown",
   "metadata": {},
   "source": [
    "El problema del vendedor  viajero se trata de  crear un algoritmo que busque la ruta mas optima  entre n cantidades de ciudades visitando cada ciudad  exactamente una vez  y finalizando la ruta en la ciudad  donde comenzo. Se utilizaran dos metodos de algoritmos diferentes , el primero será un algoritmo de simulated annealing y el segundo un algoritmo genético. "
   ]
  },
  {
   "cell_type": "markdown",
   "metadata": {},
   "source": [
    "### Alcances  y Delimitaciones"
   ]
  },
  {
   "cell_type": "markdown",
   "metadata": {},
   "source": [
    "Los algoritmos de  simulated  annnealing y genetico utilizan un estilo similar la idea  de estos algoritmos es comenzar  con dos o mas  soluciones al azar  y ir comparando y modificando estas  soluciones con base a su rendimiento, para  asi al final encontrar una solucion optima. Esto permite que apesar  de comenzar con soluciones  al azar estos algoritmos nos dan soluciones optimas que funcionan de muy buena manera. Estos algoritmos utilizan bastantes recursos, pero nos permiten encontrar soluciones que resuelven problemas complicados que de otra manera se nos dificultarían mas. "
   ]
  },
  {
   "cell_type": "markdown",
   "metadata": {},
   "source": [
    "### Hipótesis"
   ]
  },
  {
   "cell_type": "markdown",
   "metadata": {},
   "source": [
    "El algoritmo genético genera una solución más óptima en cuanto a distancia recorrida se refiere, debido a sus raíces provenientes del darwinismo o selección natural, en donde se inicia considerando un gran grupo de posibles resultados y se van generando diversas filtraciones, eliminando todo aquello que pareciera no cumplir con un buen rendimiento; sin embargo, esto genera que su tiempo de ejecución sea mayor en comparación a su contrincante, por lo que, si el tiempo no representa un problema, este será la opción conveniente, pero si lo que queremos es generar un camino a mayor velocidad de procesador, simulated annealing es el ganador. "
   ]
  },
  {
   "cell_type": "markdown",
   "metadata": {},
   "source": [
    "## 4. Metodología"
   ]
  },
  {
   "cell_type": "markdown",
   "metadata": {},
   "source": [
    "Para comparar el algoritmo genetico y simulated annealing vamos a utilizar  el csv con 17 ciudades, se procesara con las funciones DominioAGTSP(Csv,Ciudad)  para generar una matriz en el algoritmo genetico, donde su primer parametro es la ruta del archivo csv y su segundo parametro es el nombre de la ciudad inicial, y DominioTSP para la matriz de simulated annealing que tiene los mismos parametros. \n",
    "\n",
    "Se ejecutaran los algoritmos 17 veces(Cantidad_de_iteraciones) con cada una de las ciudades que se encuentran en el archivo. Primeramente se haran pruebas con respecto al costo total del resultado(ruta).Usaremos la funcion fcosto(x)(que recibe como parametro el resultado del algoritmo) para determinar el costo de cada solucion. Luego se introduciran esos costos en una tabla utilizando la biblioteca prettytable para visualizar de manera sencilla cual algoritmo es mas eficiente.\n",
    "\n",
    "Despues se haran de nuevo las pruebas pero esta vez con respecto al tiempo de ejecucion de los algoritmos. Para calcular el tiempo de ejecucion de cada algoritmo se hara uso de la funcion time.process_time() con el fin de saber el tiempo de ejecucion del programa hasta el momento. Se ejecutara la funcion y se guardara el resultado antes y despues de correr el algoritmo correspondiente para posteriormente restar los tiempos y asi calcular el tiempo de ejecucion del algoritmo. Despues se introduciran los tiempos de ejecucion en una tabla para comparar de manera sencilla los tiempos de ambos algoritmos."
   ]
  },
  {
   "cell_type": "markdown",
   "metadata": {},
   "source": [
    "## 5. Propuesta De Experimentos"
   ]
  },
  {
   "cell_type": "markdown",
   "metadata": {},
   "source": [
    "Especificaciones promedio para TODOS los experimentos propuestos debido a que todos se evaluaran con la función Big_O:\n",
    "\n",
    "Para su obtener resultados lo más acercados a lo propuesto se necesita una maquina: HP con 8gb de RAM, 1 TERA de almacenamiento en disco, y un procesador AMD Ryzen 3\n",
    "\n",
    "- Contar con una distribución de linux de la rama Debian, como S.O.\n",
    "- Contar con la versión de Python 3.8\n",
    "- Contar con Pip instalado previamente\n",
    "- Descargar la versión más reciente de la biblioteca big_o con:"
   ]
  },
  {
   "cell_type": "code",
   "execution_count": 1,
   "metadata": {},
   "outputs": [
    {
     "name": "stdout",
     "output_type": "stream",
     "text": [
      "Collecting big-O\n",
      "Collecting numpy (from big-O)\n",
      "  Using cached https://files.pythonhosted.org/packages/a6/fc/36e52d0ae2aa502b211f1bcd2fdeec72d343d58224eabcdddc1bcb052db1/numpy-1.19.4-cp36-cp36m-manylinux1_x86_64.whl\n",
      "Installing collected packages: numpy, big-O\n",
      "Successfully installed big-O-0.10.1 numpy-1.19.4\n",
      "Note: you may need to restart the kernel to use updated packages.\n"
     ]
    }
   ],
   "source": [
    "pip install big-O"
   ]
  },
  {
   "cell_type": "code",
   "execution_count": 2,
   "metadata": {},
   "outputs": [
    {
     "name": "stdout",
     "output_type": "stream",
     "text": [
      "Collecting prettytable\n",
      "  Using cached https://files.pythonhosted.org/packages/94/d5/52e48f3bcf66f838d411ad85c3ac9550c2451d082623e2d4d4df7411ed5c/prettytable-2.0.0-py3-none-any.whl\n",
      "Collecting setuptools (from prettytable)\n",
      "  Using cached https://files.pythonhosted.org/packages/3d/f2/1489d3b6c72d68bf79cd0fba6b6c7497df4ebf7d40970e2d7eceb8d0ea9c/setuptools-51.0.0-py3-none-any.whl\n",
      "Collecting wcwidth (from prettytable)\n",
      "  Using cached https://files.pythonhosted.org/packages/59/7c/e39aca596badaf1b78e8f547c807b04dae603a433d3e7a7e04d67f2ef3e5/wcwidth-0.2.5-py2.py3-none-any.whl\n",
      "Installing collected packages: setuptools, wcwidth, prettytable\n",
      "Successfully installed prettytable-2.0.0 setuptools-51.0.0 wcwidth-0.2.5\n",
      "Note: you may need to restart the kernel to use updated packages.\n"
     ]
    }
   ],
   "source": [
    "pip install -U prettytable"
   ]
  },
  {
   "cell_type": "code",
   "execution_count": 3,
   "metadata": {},
   "outputs": [
    {
     "name": "stdout",
     "output_type": "stream",
     "text": [
      "Collecting pylab-sdk\n",
      "  Using cached https://files.pythonhosted.org/packages/ed/67/9a73c2b0144314da579e8c61ab8beaff55905d68caed86e5de2460505329/pylab_sdk-1.3.2-py3-none-any.whl\n",
      "Installing collected packages: pylab-sdk\n",
      "Successfully installed pylab-sdk-1.3.2\n",
      "Note: you may need to restart the kernel to use updated packages.\n"
     ]
    }
   ],
   "source": [
    "pip install pylab-sdk"
   ]
  },
  {
   "cell_type": "code",
   "execution_count": 4,
   "metadata": {},
   "outputs": [
    {
     "name": "stdout",
     "output_type": "stream",
     "text": [
      "Collecting matplotlib\n",
      "  Using cached https://files.pythonhosted.org/packages/d2/43/2bd63467490036697e7be71444fafc7b236923d614d4521979a200c6b559/matplotlib-3.3.3-cp36-cp36m-manylinux1_x86_64.whl\n",
      "Collecting python-dateutil>=2.1 (from matplotlib)\n",
      "  Using cached https://files.pythonhosted.org/packages/d4/70/d60450c3dd48ef87586924207ae8907090de0b306af2bce5d134d78615cb/python_dateutil-2.8.1-py2.py3-none-any.whl\n",
      "Collecting pyparsing!=2.0.4,!=2.1.2,!=2.1.6,>=2.0.3 (from matplotlib)\n",
      "  Using cached https://files.pythonhosted.org/packages/8a/bb/488841f56197b13700afd5658fc279a2025a39e22449b7cf29864669b15d/pyparsing-2.4.7-py2.py3-none-any.whl\n",
      "Collecting numpy>=1.15 (from matplotlib)\n",
      "  Using cached https://files.pythonhosted.org/packages/a6/fc/36e52d0ae2aa502b211f1bcd2fdeec72d343d58224eabcdddc1bcb052db1/numpy-1.19.4-cp36-cp36m-manylinux1_x86_64.whl\n",
      "Collecting cycler>=0.10 (from matplotlib)\n",
      "  Using cached https://files.pythonhosted.org/packages/f7/d2/e07d3ebb2bd7af696440ce7e754c59dd546ffe1bbe732c8ab68b9c834e61/cycler-0.10.0-py2.py3-none-any.whl\n",
      "Collecting pillow>=6.2.0 (from matplotlib)\n",
      "  Using cached https://files.pythonhosted.org/packages/5f/19/d4c25111d36163698396f93c363114cf1cddbacb24744f6612f25b6aa3d0/Pillow-8.0.1-cp36-cp36m-manylinux1_x86_64.whl\n",
      "Collecting kiwisolver>=1.0.1 (from matplotlib)\n",
      "  Using cached https://files.pythonhosted.org/packages/a7/1b/cbd8ae738719b5f41592a12057ef5442e2ed5f5cb5451f8fc7e9f8875a1a/kiwisolver-1.3.1-cp36-cp36m-manylinux1_x86_64.whl\n",
      "Collecting six>=1.5 (from python-dateutil>=2.1->matplotlib)\n",
      "  Using cached https://files.pythonhosted.org/packages/ee/ff/48bde5c0f013094d729fe4b0316ba2a24774b3ff1c52d924a8a4cb04078a/six-1.15.0-py2.py3-none-any.whl\n",
      "Installing collected packages: six, python-dateutil, pyparsing, numpy, cycler, pillow, kiwisolver, matplotlib\n",
      "Successfully installed cycler-0.10.0 kiwisolver-1.3.1 matplotlib-3.3.3 numpy-1.19.4 pillow-8.0.1 pyparsing-2.4.7 python-dateutil-2.8.1 six-1.15.0\n",
      "Note: you may need to restart the kernel to use updated packages.\n"
     ]
    }
   ],
   "source": [
    "pip install -U matplotlib"
   ]
  },
  {
   "cell_type": "code",
   "execution_count": 5,
   "metadata": {
    "scrolled": true
   },
   "outputs": [
    {
     "name": "stdout",
     "output_type": "stream",
     "text": [
      "Collecting requests\n",
      "  Using cached https://files.pythonhosted.org/packages/39/fc/f91eac5a39a65f75a7adb58eac7fa78871ea9872283fb9c44e6545998134/requests-2.25.0-py2.py3-none-any.whl\n",
      "Collecting idna<3,>=2.5 (from requests)\n",
      "  Using cached https://files.pythonhosted.org/packages/a2/38/928ddce2273eaa564f6f50de919327bf3a00f091b5baba8dfa9460f3a8a8/idna-2.10-py2.py3-none-any.whl\n",
      "Collecting urllib3<1.27,>=1.21.1 (from requests)\n",
      "  Using cached https://files.pythonhosted.org/packages/f5/71/45d36a8df68f3ebb098d6861b2c017f3d094538c0fb98fa61d4dc43e69b9/urllib3-1.26.2-py2.py3-none-any.whl\n",
      "Collecting certifi>=2017.4.17 (from requests)\n",
      "  Using cached https://files.pythonhosted.org/packages/5e/a0/5f06e1e1d463903cf0c0eebeb751791119ed7a4b3737fdc9a77f1cdfb51f/certifi-2020.12.5-py2.py3-none-any.whl\n",
      "Collecting chardet<4,>=3.0.2 (from requests)\n",
      "  Using cached https://files.pythonhosted.org/packages/bc/a9/01ffebfb562e4274b6487b4bb1ddec7ca55ec7510b22e4c51f14098443b8/chardet-3.0.4-py2.py3-none-any.whl\n",
      "Installing collected packages: idna, urllib3, certifi, chardet, requests\n",
      "Successfully installed certifi-2020.12.5 chardet-3.0.4 idna-2.10 requests-2.25.0 urllib3-1.26.2\n",
      "Note: you may need to restart the kernel to use updated packages.\n"
     ]
    }
   ],
   "source": [
    "pip install requests"
   ]
  },
  {
   "cell_type": "markdown",
   "metadata": {},
   "source": [
    "### Competencia en costos"
   ]
  },
  {
   "cell_type": "code",
   "execution_count": 6,
   "metadata": {
    "scrolled": false
   },
   "outputs": [
    {
     "name": "stdout",
     "output_type": "stream",
     "text": [
      "+------------------------+--------------------+--------------------+---------------------+\n",
      "|    Ciudad de Inicio    |   Costo Genetico   |     Costo S.A      |      Diferencia     |\n",
      "+------------------------+--------------------+--------------------+---------------------+\n",
      "|        Liberia         | 1818.5000000000002 |       3600.5       | -1781.9999999999998 |\n",
      "|       Santa Cruz       |       1781.5       |       3887.6       |       -2106.1       |\n",
      "|         Nicoya         |       1807.1       | 3906.6000000000004 | -2099.5000000000005 |\n",
      "|     Ciudad Quesada     | 1651.1000000000001 |       3495.0       | -1843.8999999999999 |\n",
      "|        Alajuela        |       1819.4       |       3641.9       |       -1822.5       |\n",
      "|        Heredia         |       1806.1       |       3682.8       | -1876.7000000000003 |\n",
      "| Puerto Viejo Sarapiqui | 1859.1000000000001 | 3339.1000000000004 | -1480.0000000000002 |\n",
      "|        San Jose        | 1930.1999999999998 |       2951.4       | -1021.2000000000003 |\n",
      "| San Isidro del General |       1904.7       |       3920.0       |       -2015.3       |\n",
      "|       Puntarenas       | 1768.3000000000002 |       3929.1       | -2160.7999999999997 |\n",
      "|         Quepos         |       1737.2       |       3646.8       | -1909.6000000000001 |\n",
      "|        Golfito         |       1870.8       |       3711.4       | -1840.6000000000001 |\n",
      "|        Cartago         |       1784.0       |       3709.2       | -1925.1999999999998 |\n",
      "|       Turrialba        | 1694.6999999999998 |       3548.0       | -1853.3000000000002 |\n",
      "|        Guapiles        |       1769.3       |       3820.7       | -2051.3999999999996 |\n",
      "|         Limon          | 1791.6999999999998 |       3586.7       |       -1795.0       |\n",
      "| Puerto Viejo Talamanca |       1604.5       |       3815.7       |       -2211.2       |\n",
      "+------------------------+--------------------+--------------------+---------------------+\n"
     ]
    },
    {
     "data": {
      "image/png": "[encoded data removed]",
      "text/plain": [
       "<Figure size 720x432 with 1 Axes>"
      ]
     },
     "metadata": {
      "needs_background": "light"
     },
     "output_type": "display_data"
    }
   ],
   "source": [
    "import big_o\n",
    "from big_o import complexities as cmpl\n",
    "from prettytable import PrettyTable\n",
    "from pylab import *\n",
    "from algoritmo_genetico import optimizar as oag\n",
    "from dominio_ag_tsp import DominioAGTSP\n",
    "\n",
    "from simulated_annealing import optimizar as osa\n",
    "from dominio_tsp import DominioTSP\n",
    "import matplotlib\n",
    "import matplotlib.pyplot as plt\n",
    "import numpy as np\n",
    "CANTIDAD_DE_ITERACIONES = 17\n",
    "\n",
    "#PRUEBAS EN COSTO\n",
    "\n",
    "dominioAG = DominioAGTSP('datos/ciudades_cr.csv', 'Cartago')\n",
    "\n",
    "#Tabla\n",
    "tabla = PrettyTable(['Ciudad de Inicio', 'Costo Genetico', 'Costo S.A ', 'Diferencia'])\n",
    "\n",
    "\n",
    "\n",
    "ciudades = []\n",
    "costo_genetico = []\n",
    "costo_sa = []\n",
    "\n",
    "for i in range(0, CANTIDAD_DE_ITERACIONES):\n",
    "    ciudad = dominioAG.cities[i]\n",
    "    dominioAG = DominioAGTSP('datos/ciudades_cr.csv', ciudad)\n",
    "    solAG = oag(dominioAG, 100, 0.1, 0.5, 1000)\n",
    "    \n",
    "\n",
    "    #Cargaremos los dominios para el S.A\n",
    "    dominioSP = DominioTSP('datos/ciudades_cr.csv', ciudad)\n",
    "    solSP = osa(dominioSP)\n",
    "    \n",
    "    costoAGMejorSolucion = dominioAG.fcosto(solAG)\n",
    "    costoSPMejorSolucion = dominioSP.fcosto(solSP)\n",
    "    if i%3 == 0:\n",
    "        costo_genetico.append(costoAGMejorSolucion)\n",
    "        costo_sa.append(costoSPMejorSolucion)\n",
    "        ciudades.append(ciudad)\n",
    "    tabla.add_row([ciudad,str(costoAGMejorSolucion),str(costoSPMejorSolucion),str(costoAGMejorSolucion-costoSPMejorSolucion)])\n",
    "    #AÑADIR A TABLA E IMPRIMIR TABLA\n",
    "    \n",
    "print(tabla)\n",
    "\n",
    "#Obtenemos la posicion de cada etiqueta en el eje de X\n",
    "x = np.arange(len(ciudades))\n",
    "#tamaño de cada barra\n",
    "width = 0.35\n",
    "\n",
    "fig, ax = plt.subplots()\n",
    "\n",
    "\n",
    "\n",
    "rects1 = ax.bar(x - width/2, costo_genetico, width, label='Algoritmo Genetico')\n",
    "\n",
    "rects2 = ax.bar(x + width/2, costo_sa, width, label='S.A')\n",
    "\n",
    "#Añadimos las etiquetas de identificacion de valores en el grafico\n",
    "ax.set_ylabel('Costo')\n",
    "ax.set_title('Comparacion de Costos de los algoritmos')\n",
    "ax.set_xticks(x)\n",
    "ax.set_xticklabels(ciudades)\n",
    "#Añadimos un legen() esto permite mmostrar con colores a que pertence cada valor.\n",
    "ax.legend()\n",
    "\n",
    "def autolabel(rects):\n",
    "    \"\"\"Funcion para agregar una etiqueta con el valor en cada barra\"\"\"\n",
    "    for rect in rects:\n",
    "        height = rect.get_height()\n",
    "        ax.annotate('{}'.format(height),\n",
    "                    xy=(rect.get_x() + rect.get_width() / 2, height),\n",
    "                    xytext=(0, 3),  # 3 points vertical offset\n",
    "                    textcoords=\"offset points\",\n",
    "                    ha='center', va='bottom')\n",
    "\n",
    "#Añadimos las etiquetas para cada barra\n",
    "autolabel(rects1)\n",
    "autolabel(rects2)\n",
    "fig.tight_layout()\n",
    "fig.set_size_inches(10, 6)\n",
    "plt.savefig('doble_barra.png')\n",
    "#Mostramos la grafica con el metodo show()\n",
    "plt.show()\n"
   ]
  },
  {
   "cell_type": "markdown",
   "metadata": {},
   "source": [
    "### Competencia en Tiempos"
   ]
  },
  {
   "cell_type": "code",
   "execution_count": 12,
   "metadata": {},
   "outputs": [
    {
     "name": "stdout",
     "output_type": "stream",
     "text": [
      "+------------------------+---------------------------+----------------------+--------------------+\n",
      "|    Ciudad de Inicio    | Tiempo algoritmo genetico |      Tiempo S.A      |     Diferencia     |\n",
      "+------------------------+---------------------------+----------------------+--------------------+\n",
      "|        Liberia         |     3.1265438689999883    | 0.03473054799997044  | 3.091813321000018  |\n",
      "|       Santa Cruz       |     3.117299543999991     | 0.029444492999971317 | 3.0878550510000196 |\n",
      "|         Nicoya         |     3.0946150120000198    | 0.030123778000017865 | 3.064491234000002  |\n",
      "|     Ciudad Quesada     |     3.0644178459999694    | 0.03186864700001024  | 3.032549198999959  |\n",
      "|        Alajuela        |     3.2262156639999944    | 0.031475978000003124 | 3.1947396859999913 |\n",
      "|        Heredia         |     3.0648596500000167    | 0.030569388000003528 | 3.034290262000013  |\n",
      "| Puerto Viejo Sarapiqui |     3.0447299089999547    |  0.0389409190000265  | 3.005788989999928  |\n",
      "|        San Jose        |     3.1245845619999955    | 0.03618402699999024  | 3.088400535000005  |\n",
      "| San Isidro del General |     3.3184443209999586    | 0.03730691499998784  | 3.2811374059999707 |\n",
      "|       Puntarenas       |     3.1303292830000373    | 0.03130279200001951  | 3.099026491000018  |\n",
      "|         Quepos         |     3.154838675999997     | 0.033438565000039944 | 3.121400110999957  |\n",
      "|        Golfito         |     3.3275248159999933    | 0.033401460999982646 | 3.2941233550000106 |\n",
      "|        Cartago         |     3.394533528000011     | 0.03755799300000717  | 3.3569755350000037 |\n",
      "|       Turrialba        |     3.457724875999986     | 0.04342635500000824  | 3.414298520999978  |\n",
      "|        Guapiles        |     3.337059479000004     | 0.03353183399997306  | 3.303527645000031  |\n",
      "|         Limon          |     3.088666544999967     | 0.029633918999991238 | 3.0590326259999756 |\n",
      "| Puerto Viejo Talamanca |     12.483291842000028    | 0.02838006300004281  | 12.454911778999985 |\n",
      "+------------------------+---------------------------+----------------------+--------------------+\n"
     ]
    },
    {
     "data": {
      "image/png": "[encoded data removed]",
      "text/plain": [
       "<Figure size 720x432 with 1 Axes>"
      ]
     },
     "metadata": {
      "needs_background": "light"
     },
     "output_type": "display_data"
    }
   ],
   "source": [
    "import time\n",
    "\n",
    "#Añadir A tabla\n",
    "CANTIDAD_DE_ITERACIONES = 17\n",
    "\n",
    "#Tabla\n",
    "tabla = PrettyTable(['Ciudad de Inicio', 'Tiempo algoritmo genetico', 'Tiempo S.A', 'Diferencia'])\n",
    "ciudades = []\n",
    "tiempo_genetico = []\n",
    "tiempo_sa = []\n",
    "\n",
    "for i in range(0, CANTIDAD_DE_ITERACIONES):\n",
    "    \n",
    "    ciudad = dominioAG.cities[i]\n",
    "    dominioAG = DominioAGTSP('datos/ciudades_cr.csv', ciudad)\n",
    "    #Cargaremos los dominios para el S.A\n",
    "    dominioSP = DominioTSP('datos/ciudades_cr.csv', ciudad)\n",
    "    \n",
    "    \n",
    "    inicioAG = time.process_time()\n",
    "    x = oag(dominioAG, 100, 0.1, 0.5, 1000)\n",
    "    deltaAG = time.process_time() - inicioAG \n",
    "    inicioSA = time.process_time()\n",
    "    y = osa(dominioSP)\n",
    "    deltaSA = time.process_time() - inicioSA\n",
    "    if i%3 == 0:\n",
    "        tiempo_genetico.append(round(deltaAG,3))\n",
    "        tiempo_sa.append(round(deltaSA,3))\n",
    "        ciudades.append(ciudad)\n",
    "    tabla.add_row([ciudad,str(deltaAG),str(deltaSA),str(deltaAG-deltaSA)])\n",
    "print(tabla)\n",
    "\n",
    "\n",
    "\n",
    "x = np.arange(len(ciudades))\n",
    "\n",
    "width = 0.35\n",
    "\n",
    "fig, ax = plt.subplots()\n",
    "\n",
    "\n",
    "\n",
    "rects1 = ax.bar(x - width/2, tiempo_genetico, width, label='Algoritmo Genetico')\n",
    "\n",
    "rects2 = ax.bar(x + width/2, tiempo_sa, width, label='S.A')\n",
    "\n",
    "\n",
    "ax.set_ylabel('Tiempo')\n",
    "ax.set_title('Comparacion de Costos de los algoritmos')\n",
    "ax.set_xticks(x)\n",
    "ax.set_xticklabels(ciudades)\n",
    "\n",
    "ax.legend()\n",
    "\n",
    "def autolabel(rects):\n",
    "    \"\"\"Funcion para agregar una etiqueta con el valor en cada barra\"\"\"\n",
    "    for rect in rects:\n",
    "        height = rect.get_height()\n",
    "        ax.annotate('{}'.format(height),\n",
    "                    xy=(rect.get_x() + rect.get_width() / 2, height),\n",
    "                    xytext=(0, 3),  # 3 points vertical offset\n",
    "                    textcoords=\"offset points\",\n",
    "                    ha='center', va='bottom')\n",
    "\n",
    "autolabel(rects1)\n",
    "autolabel(rects2)\n",
    "fig.tight_layout()\n",
    "fig.set_size_inches(10, 6)\n",
    "plt.savefig('doble_barra.png')\n",
    "\n",
    "plt.show()"
   ]
  },
  {
   "cell_type": "markdown",
   "metadata": {},
   "source": [
    "## 6. Conclusiones"
   ]
  },
  {
   "cell_type": "markdown",
   "metadata": {},
   "source": [
    "## 7. Referencias "
   ]
  }
 ],
 "metadata": {
  "kernelspec": {
   "display_name": "Python 3",
   "language": "python",
   "name": "python3"
  },
  "language_info": {
   "codemirror_mode": {
    "name": "ipython",
    "version": 3
   },
   "file_extension": ".py",
   "mimetype": "text/x-python",
   "name": "python",
   "nbconvert_exporter": "python",
   "pygments_lexer": "ipython3",
   "version": "3.6.9"
  }
 },
 "nbformat": 4,
 "nbformat_minor": 4
}
