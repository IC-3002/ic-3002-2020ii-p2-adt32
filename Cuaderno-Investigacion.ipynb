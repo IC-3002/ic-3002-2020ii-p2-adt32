{
 "cells": [
  {
   "cell_type": "markdown",
   "metadata": {},
   "source": [
    "# Algoritmo Del Vendedor Viajero - Proyecto II \n"
   ]
  },
  {
   "cell_type": "markdown",
   "metadata": {},
   "source": [
    "## 1. Pregunta De Investigación "
   ]
  },
  {
   "cell_type": "markdown",
   "metadata": {},
   "source": [
    "¿Cómo se compara el desempeño del algoritmo simulated annealing con el desempeño del algoritmo genético en la resolución del problema del vendedor viajero para 17 localidades en Costa Rica?"
   ]
  },
  {
   "cell_type": "markdown",
   "metadata": {},
   "source": [
    "## 2. Preguntas Secundarias  De Investigación"
   ]
  },
  {
   "cell_type": "markdown",
   "metadata": {},
   "source": [
    "- ¿Cuál es la configuración de parámetros recomendada para resolver el\n",
    "  problema con el algoritmo simulated annealing? ¿Por qué?\n",
    "  \n",
    "  \n",
    "- ¿Cuál es la configuración de parámetros recomendada para resolver el\n",
    "  problema con el algoritmo genético? ¿Por qué?"
   ]
  },
  {
   "cell_type": "markdown",
   "metadata": {},
   "source": [
    "## 3. Problema"
   ]
  },
  {
   "cell_type": "markdown",
   "metadata": {},
   "source": [
    "El problema del vendedor  viajero se trata de  crear un algoritmo que busque la ruta mas optima  entre n cantidades de ciudades visitando cada ciudad  exactamente una vez  y finalizando la ruta en la ciudad  donde comenzo. Se utilizaran dos metodos de algoritmos diferentes , el primero será un algoritmo de simulated annealing y el segundo un algoritmo genético. "
   ]
  },
  {
   "cell_type": "markdown",
   "metadata": {},
   "source": [
    "### Alcances  y Delimitaciones"
   ]
  },
  {
   "cell_type": "markdown",
   "metadata": {},
   "source": [
    "Los algoritmos de  simulated  annnealing y genetico utilizan un estilo similar la idea  de estos algoritmos es comenzar  con dos o mas  soluciones al azar  y ir comparando y modificando estas  soluciones con base a su rendimiento, para  asi al final encontrar una solucion optima. Esto permite que apesar  de comenzar con soluciones  al azar estos algoritmos nos dan soluciones optimas que funcionan de muy buena manera. Estos algoritmos utilizan bastantes recursos, pero nos permiten encontrar soluciones que resuelven problemas complicados que de otra manera se nos dificultarían mas. "
   ]
  },
  {
   "cell_type": "markdown",
   "metadata": {},
   "source": [
    "### Hipótesis"
   ]
  },
  {
   "cell_type": "markdown",
   "metadata": {},
   "source": [
    "El algoritmo genético genera una solución más óptima en cuanto a distancia recorrida se refiere, debido a sus raíces provenientes del darwinismo o selección natural, en donde se inicia considerando un gran grupo de posibles resultados y se van generando diversas filtraciones, eliminando todo aquello que pareciera no cumplir con un buen rendimiento; sin embargo, esto genera que su tiempo de ejecución sea mayor en comparación a su contrincante, por lo que, si el tiempo no representa un problema, este será la opción conveniente, pero si lo que queremos es generar un camino a mayor velocidad de procesador, simulated annealing es el ganador. "
   ]
  },
  {
   "cell_type": "markdown",
   "metadata": {},
   "source": [
    "## 4. Metodología (ARREGLAR)"
   ]
  },
  {
   "cell_type": "markdown",
   "metadata": {},
   "source": [
    "Para comparar el algoritmo genetico y simulated annealing vamos a utilizar  el csv con 17 ciudades, se procesara con las funciones DominioAGTSP(Csv,Ciudad)  para generar una matriz en el algoritmo genetico, donde su primer parametro es la ruta del archivo csv y su segundo parametro es el nombre de la ciudad inicial, y DominioTSP para la matriz de simulated annealing que tiene los mismos parametros. \n",
    "\n",
    "Se ejecutaran los algoritmos 5 veces(Cantidad_de_iteraciones) con ciudades iniciales distintas elegidas aleatoreamente. Primeramente se haran pruebas con respecto al costo total del resultado(ruta).Usaremos la funcion fcosto(x)(que recibe como parametro el resultado del algoritmo) para determinar el costo de cada solucion. Luego se introduciran esos costos en una tabla utilizando la biblioteca prettytable para visualizar de manera sencilla cual algoritmo es mas eficiente.\n",
    "\n",
    "Despues se haran de nuevo las pruebas pero esta vez con respecto al tiempo de ejecucion de los algoritmos. Para calcular el tiempo de ejecucion de cada algoritmo se hara uso de la funcion time.process_time() con el fin de saber el tiempo de ejecucion del programa hasta el momento. Se ejecutara la funcion y se guardara el resultado antes y despues de correr el algoritmo correspondiente para posteriormente restar los tiempos y asi calcular el tiempo de ejecucion del algoritmo. Despues se introduciran los tiempos de ejecucion en una tabla para comparar de manera sencilla los tiempos de ambos algoritmos."
   ]
  },
  {
   "cell_type": "markdown",
   "metadata": {},
   "source": [
    "## 5. Propuesta De Experimentos"
   ]
  },
  {
   "cell_type": "markdown",
   "metadata": {},
   "source": [
    "Especificaciones promedio para TODOS los experimentos propuestos debido a que todos se evaluaran con la función Big_O:\n",
    "\n",
    "Para su obtener resultados lo más acercados a lo propuesto se necesita una maquina: HP con 8gb de RAM, 1 TERA de almacenamiento en disco, y un procesador AMD Ryzen 3\n",
    "\n",
    "- Contar con una distribución de linux de la rama Debian, como S.O.\n",
    "- Contar con la versión de Python 3.8\n",
    "- Contar con Pip instalado previamente\n",
    "- Descargar la versión más reciente de la biblioteca big_o con:"
   ]
  },
  {
   "cell_type": "code",
   "execution_count": 1,
   "metadata": {},
   "outputs": [
    {
     "name": "stdout",
     "output_type": "stream",
     "text": [
      "Requirement already satisfied: big-O in /home/flicker/.local/lib/python3.8/site-packages (0.10.1)\n",
      "Requirement already satisfied: numpy in /home/flicker/.local/lib/python3.8/site-packages (from big-O) (1.19.2)\n",
      "Note: you may need to restart the kernel to use updated packages.\n"
     ]
    }
   ],
   "source": [
    "pip install big-O"
   ]
  },
  {
   "cell_type": "code",
   "execution_count": 2,
   "metadata": {},
   "outputs": [
    {
     "name": "stdout",
     "output_type": "stream",
     "text": [
      "Requirement already up-to-date: prettytable in /home/flicker/.local/lib/python3.8/site-packages (2.0.0)\n",
      "Requirement already satisfied, skipping upgrade: setuptools in /usr/lib/python3/dist-packages (from prettytable) (49.3.1)\n",
      "Requirement already satisfied, skipping upgrade: wcwidth in /home/flicker/.local/lib/python3.8/site-packages (from prettytable) (0.2.5)\n",
      "Note: you may need to restart the kernel to use updated packages.\n"
     ]
    }
   ],
   "source": [
    "pip install -U prettytable"
   ]
  },
  {
   "cell_type": "code",
   "execution_count": 3,
   "metadata": {},
   "outputs": [
    {
     "name": "stdout",
     "output_type": "stream",
     "text": [
      "Requirement already satisfied: pylab-sdk in /home/flicker/.local/lib/python3.8/site-packages (1.3.2)\n",
      "Note: you may need to restart the kernel to use updated packages.\n"
     ]
    }
   ],
   "source": [
    "pip install pylab-sdk"
   ]
  },
  {
   "cell_type": "code",
   "execution_count": 4,
   "metadata": {},
   "outputs": [
    {
     "name": "stdout",
     "output_type": "stream",
     "text": [
      "Requirement already up-to-date: matplotlib in /home/flicker/.local/lib/python3.8/site-packages (3.3.3)\n",
      "Requirement already satisfied, skipping upgrade: pillow>=6.2.0 in /usr/lib/python3/dist-packages (from matplotlib) (7.2.0)\n",
      "Requirement already satisfied, skipping upgrade: pyparsing!=2.0.4,!=2.1.2,!=2.1.6,>=2.0.3 in /home/flicker/.local/lib/python3.8/site-packages (from matplotlib) (2.4.7)\n",
      "Requirement already satisfied, skipping upgrade: kiwisolver>=1.0.1 in /home/flicker/.local/lib/python3.8/site-packages (from matplotlib) (1.3.1)\n",
      "Requirement already satisfied, skipping upgrade: python-dateutil>=2.1 in /usr/lib/python3/dist-packages (from matplotlib) (2.8.1)\n",
      "Requirement already satisfied, skipping upgrade: cycler>=0.10 in /home/flicker/.local/lib/python3.8/site-packages (from matplotlib) (0.10.0)\n",
      "Requirement already satisfied, skipping upgrade: numpy>=1.15 in /home/flicker/.local/lib/python3.8/site-packages (from matplotlib) (1.19.2)\n",
      "Requirement already satisfied, skipping upgrade: six in /usr/lib/python3/dist-packages (from cycler>=0.10->matplotlib) (1.15.0)\n",
      "Note: you may need to restart the kernel to use updated packages.\n"
     ]
    }
   ],
   "source": [
    "pip install -U matplotlib"
   ]
  },
  {
   "cell_type": "code",
   "execution_count": 5,
   "metadata": {
    "scrolled": true
   },
   "outputs": [
    {
     "name": "stdout",
     "output_type": "stream",
     "text": [
      "Requirement already satisfied: requests in /usr/lib/python3/dist-packages (2.23.0)\n",
      "Note: you may need to restart the kernel to use updated packages.\n"
     ]
    }
   ],
   "source": [
    "pip install requests"
   ]
  },
  {
   "cell_type": "markdown",
   "metadata": {},
   "source": [
    "### Competencia en costos"
   ]
  },
  {
   "cell_type": "code",
   "execution_count": 6,
   "metadata": {
    "scrolled": false
   },
   "outputs": [
    {
     "name": "stdout",
     "output_type": "stream",
     "text": [
      "Alajuela Costo Genetico 1820.1\n",
      "Con la ruta: Alajuela -> Limon -> Puerto Viejo Talamanca -> Guapiles -> Puerto Viejo Sarapiqui -> Ciudad Quesada -> San Jose -> Turrialba -> Cartago -> San Isidro del General -> Golfito -> Quepos -> Nicoya -> Santa Cruz -> Liberia -> Puntarenas -> Heredia -> Alajuela\n",
      "\n",
      "Alajuela Costo S.A 3931.8\n",
      "Con la ruta: Alajuela -> Santa Cruz -> Heredia -> Puntarenas -> Liberia -> Cartago -> Puerto Viejo Talamanca -> Golfito -> Guapiles -> San Isidro del General -> Limon -> Quepos -> San Jose -> Ciudad Quesada -> Nicoya -> Puerto Viejo Sarapiqui -> Turrialba -> Alajuela\n",
      "\n",
      "------------------------------------------------\n",
      "Puerto Viejo Talamanca Costo Genetico 1809.2\n",
      "Con la ruta: Puerto Viejo Talamanca -> Turrialba -> Cartago -> San Jose -> San Isidro del General -> Golfito -> Quepos -> Guapiles -> Puerto Viejo Sarapiqui -> Ciudad Quesada -> Liberia -> Santa Cruz -> Nicoya -> Puntarenas -> Alajuela -> Heredia -> Limon -> Puerto Viejo Talamanca\n",
      "\n",
      "Puerto Viejo Talamanca Costo S.A 3929.2000000000003\n",
      "Con la ruta: Puerto Viejo Talamanca -> Santa Cruz -> Limon -> Nicoya -> Ciudad Quesada -> Heredia -> Alajuela -> Liberia -> Guapiles -> Golfito -> Cartago -> Quepos -> Turrialba -> San Jose -> Puntarenas -> Puerto Viejo Sarapiqui -> San Isidro del General -> Puerto Viejo Talamanca\n",
      "\n",
      "------------------------------------------------\n",
      "Cartago Costo Genetico 1732.6\n",
      "Con la ruta: Cartago -> Puntarenas -> Nicoya -> Santa Cruz -> Liberia -> Ciudad Quesada -> Puerto Viejo Sarapiqui -> Guapiles -> Limon -> Puerto Viejo Talamanca -> Turrialba -> San Isidro del General -> Golfito -> Quepos -> Alajuela -> Heredia -> San Jose -> Cartago\n",
      "\n",
      "Cartago Costo S.A 3460.5999999999995\n",
      "Con la ruta: Cartago -> Guapiles -> Liberia -> Limon -> San Isidro del General -> Turrialba -> Puerto Viejo Talamanca -> Alajuela -> Quepos -> Santa Cruz -> Puntarenas -> Nicoya -> Ciudad Quesada -> Golfito -> Heredia -> Puerto Viejo Sarapiqui -> San Jose -> Cartago\n",
      "\n",
      "------------------------------------------------\n",
      "Limon Costo Genetico 1609.6\n",
      "Con la ruta: Limon -> Turrialba -> Cartago -> Alajuela -> Heredia -> San Jose -> San Isidro del General -> Golfito -> Quepos -> Puntarenas -> Nicoya -> Santa Cruz -> Liberia -> Ciudad Quesada -> Puerto Viejo Sarapiqui -> Guapiles -> Puerto Viejo Talamanca -> Limon\n",
      "\n",
      "Limon Costo S.A 3848.1\n",
      "Con la ruta: Limon -> Quepos -> San Jose -> Cartago -> Puerto Viejo Sarapiqui -> San Isidro del General -> Ciudad Quesada -> Guapiles -> Liberia -> Turrialba -> Nicoya -> Santa Cruz -> Heredia -> Alajuela -> Puerto Viejo Talamanca -> Puntarenas -> Golfito -> Limon\n",
      "\n",
      "------------------------------------------------\n",
      "Puerto Viejo Talamanca Costo Genetico 1865.7000000000003\n",
      "Con la ruta: Puerto Viejo Talamanca -> Guapiles -> Puerto Viejo Sarapiqui -> Heredia -> San Jose -> Turrialba -> Cartago -> Alajuela -> Puntarenas -> Nicoya -> Santa Cruz -> Liberia -> Ciudad Quesada -> Quepos -> Golfito -> San Isidro del General -> Limon -> Puerto Viejo Talamanca\n",
      "\n",
      "Puerto Viejo Talamanca Costo S.A 3508.7\n",
      "Con la ruta: Puerto Viejo Talamanca -> San Jose -> San Isidro del General -> Alajuela -> Guapiles -> Limon -> Puntarenas -> Heredia -> Liberia -> Turrialba -> Quepos -> Cartago -> Santa Cruz -> Nicoya -> Golfito -> Ciudad Quesada -> Puerto Viejo Sarapiqui -> Puerto Viejo Talamanca\n",
      "\n",
      "------------------------------------------------\n"
     ]
    }
   ],
   "source": [
    "import big_o\n",
    "from big_o import complexities as cmpl\n",
    "from prettytable import PrettyTable\n",
    "from pylab import *\n",
    "from algoritmo_genetico import optimizar as oag\n",
    "from dominio_ag_tsp import DominioAGTSP\n",
    "\n",
    "from simulated_annealing import optimizar as osa\n",
    "from dominio_tsp import DominioTSP\n",
    "\n",
    "CANTIDAD_DE_ITERACIONES = 5\n",
    "\n",
    "#PRUEBAS EN COSTO\n",
    "\n",
    "dominioAG = DominioAGTSP('datos/ciudades_cr.csv', 'Cartago')\n",
    "\n",
    "for i in range(0, CANTIDAD_DE_ITERACIONES):\n",
    "    ciudad = dominioAG.cities[random.randint(0,16)]\n",
    "    dominioAG = DominioAGTSP('datos/ciudades_cr.csv', ciudad)\n",
    "    solAG = oag(dominioAG, 100, 0.1, 0.5, 1000)\n",
    "\n",
    "    #Cargaremos los dominios para el S.A\n",
    "    dominioSP = DominioTSP('datos/ciudades_cr.csv', ciudad)\n",
    "    solSP = osa(dominioSP)\n",
    "    \n",
    "    costoAGMejorSolucion = dominioAG.fcosto(solAG)\n",
    "    costoSPMejorSolucion = dominioSP.fcosto(solSP)\n",
    "    #AÑADIR A TABLA E IMPRIMIR TABLA\n",
    "    print(ciudad + ' Costo Genetico '+ str(costoAGMejorSolucion))\n",
    "    print(\"Con la ruta: \"+ dominioAG.texto(solAG))\n",
    "    print(\"\")\n",
    "    print(ciudad + ' Costo S.A '+ str(costoSPMejorSolucion))\n",
    "    print(\"Con la ruta: \"+ dominioSP.texto(solSP))\n",
    "    print(\"\")\n",
    "    print(\"------------------------------------------------\")\n"
   ]
  },
  {
   "cell_type": "markdown",
   "metadata": {},
   "source": [
    "### Competencia en Tiempos"
   ]
  },
  {
   "cell_type": "code",
   "execution_count": 7,
   "metadata": {},
   "outputs": [
    {
     "name": "stdout",
     "output_type": "stream",
     "text": [
      "Tiempo de ejecucion del algoritmo genetico con la ciudad Turrialba || 2.6848790010000005\n",
      "\n",
      "Tiempo de ejecucion del algoritmo S.A en la ciudad Turrialba || 0.02445536500000145\n",
      "\n",
      "Tiempo de ejecucion del algoritmo genetico con la ciudad San Isidro del General || 2.4804859639999997\n",
      "\n",
      "Tiempo de ejecucion del algoritmo S.A en la ciudad San Isidro del General || 0.023168868999999148\n",
      "\n",
      "Tiempo de ejecucion del algoritmo genetico con la ciudad Golfito || 2.28496479\n",
      "\n",
      "Tiempo de ejecucion del algoritmo S.A en la ciudad Golfito || 0.022421667999999784\n",
      "\n",
      "Tiempo de ejecucion del algoritmo genetico con la ciudad Guapiles || 2.236400760000002\n",
      "\n",
      "Tiempo de ejecucion del algoritmo S.A en la ciudad Guapiles || 0.02513201300000034\n",
      "\n",
      "Tiempo de ejecucion del algoritmo genetico con la ciudad Heredia || 2.471105131999998\n",
      "\n",
      "Tiempo de ejecucion del algoritmo S.A en la ciudad Heredia || 0.028532468000001643\n",
      "\n"
     ]
    }
   ],
   "source": [
    "import time\n",
    "\n",
    "#Añadir A tabla\n",
    "CANTIDAD_DE_ITERACIONES = 5\n",
    "for i in range(0, CANTIDAD_DE_ITERACIONES):\n",
    "    \n",
    "    ciudad = dominioAG.cities[random.randint(0,16)]\n",
    "    dominioAG = DominioAGTSP('datos/ciudades_cr.csv', ciudad)\n",
    "    #Cargaremos los dominios para el S.A\n",
    "    dominioSP = DominioTSP('datos/ciudades_cr.csv', ciudad)\n",
    "    \n",
    "    \n",
    "    inicioAG = time.process_time()\n",
    "    x = oag(dominioAG, 100, 0.1, 0.5, 1000)\n",
    "    deltaAG = time.process_time() - inicioAG \n",
    "    print('Tiempo de ejecucion del algoritmo genetico con la ciudad '+ciudad+\" || \"+str(deltaAG))\n",
    "    print(\"\")\n",
    "    inicioSA = time.process_time()\n",
    "    y = osa(dominioSP)\n",
    "    deltaSA = time.process_time() - inicioSA\n",
    "    print('Tiempo de ejecucion del algoritmo S.A en la ciudad '+ciudad+\" || \"+str(deltaSA))\n",
    "    print(\"\")"
   ]
  },
  {
   "cell_type": "markdown",
   "metadata": {},
   "source": [
    "## 6. Conclusiones"
   ]
  },
  {
   "cell_type": "markdown",
   "metadata": {},
   "source": [
    "## 7. Referencias "
   ]
  }
 ],
 "metadata": {
  "kernelspec": {
   "display_name": "Python 3",
   "language": "python",
   "name": "python3"
  },
  "language_info": {
   "codemirror_mode": {
    "name": "ipython",
    "version": 3
   },
   "file_extension": ".py",
   "mimetype": "text/x-python",
   "name": "python",
   "nbconvert_exporter": "python",
   "pygments_lexer": "ipython3",
   "version": "3.6.9"
  }
 },
 "nbformat": 4,
 "nbformat_minor": 4
}
