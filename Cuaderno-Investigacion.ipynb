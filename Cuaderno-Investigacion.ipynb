{
 "cells": [
  {
   "cell_type": "markdown",
   "metadata": {},
   "source": [
    "# Algoritmo Del Vendedor Viajero - Proyecto II \n"
   ]
  },
  {
   "cell_type": "markdown",
   "metadata": {},
   "source": [
    "## 1. Pregunta De Investigación "
   ]
  },
  {
   "cell_type": "markdown",
   "metadata": {},
   "source": [
    "¿Cómo se compara el desempeño del algoritmo simulated annealing con el desempeño del algoritmo genético en la resolución del problema del vendedor viajero para 17 localidades en Costa Rica?"
   ]
  },
  {
   "cell_type": "markdown",
   "metadata": {},
   "source": [
    "## 2. Preguntas Secundarias  De Investigación"
   ]
  },
  {
   "cell_type": "markdown",
   "metadata": {},
   "source": [
    "- ¿Cuál es la configuración de parámetros recomendada para resolver el\n",
    "  problema con el algoritmo simulated annealing? ¿Por qué?\n",
    "  \n",
    "  \n",
    "- ¿Cuál es la configuración de parámetros recomendada para resolver el\n",
    "  problema con el algoritmo genético? ¿Por qué?"
   ]
  },
  {
   "cell_type": "markdown",
   "metadata": {},
   "source": [
    "## 3. Problema"
   ]
  },
  {
   "cell_type": "markdown",
   "metadata": {},
   "source": [
    "El problema del vendedor  viajero se trata de  crear un algoritmo que busque la ruta mas optima  entre n cantidades de ciudades visitando cada ciudad  exactamente una vez  y finalizando la ruta en la ciudad  donde comenzo. Se utilizaran dos metodos de algoritmos diferentes , el primero será un algoritmo de simulated annealing y el segundo un algoritmo genético. "
   ]
  },
  {
   "cell_type": "markdown",
   "metadata": {},
   "source": [
    "### Alcances  y Delimitaciones"
   ]
  },
  {
   "cell_type": "markdown",
   "metadata": {},
   "source": [
    "Los algoritmos de  simulated  annnealing y genetico utilizan un estilo similar la idea  de estos algoritmos es comenzar  con dos o mas  soluciones al azar  y ir comparando y modificando estas  soluciones con base a su rendimiento, para  asi al final encontrar una solucion optima. Esto permite que apesar  de comenzar con soluciones  al azar estos algoritmos nos dan soluciones optimas que funcionan de muy buena manera. Estos algoritmos utilizan bastantes recursos, pero nos permiten encontrar soluciones que resuelven problemas complicados que de otra manera se nos dificultarían mas. "
   ]
  },
  {
   "cell_type": "markdown",
   "metadata": {},
   "source": [
    "### Hipótesis"
   ]
  },
  {
   "cell_type": "markdown",
   "metadata": {},
   "source": [
    "El algoritmo de  simulated annealing tiene un desempeño mejor que el el algoritmo genetico , ya que para  el problema del vendedor viajero se busca la ruta mas rapida  y eficiente para  llegar a su destino debido a que el algoritmo simulated annealing  es un algoritmo de solucion unica y el algoritmo genetico es  de solucion  multiple y para  este problema se desempeña mejor un algoritmo de solucion unica."
   ]
  },
  {
   "cell_type": "markdown",
   "metadata": {},
   "source": [
    "## 4. Metodología"
   ]
  },
  {
   "cell_type": "markdown",
   "metadata": {},
   "source": [
    "Debido a ya anteriores trabajos de comparación del algoritmos para poner a prueba\n",
    "uno con otro les pondremos a trabajar bajo los mismos parametros. ¿Como los mediremos? -Es\n",
    "aquí donde entra la biblioteca Big_O donde gracias a ella podremos registrar no solo su \n",
    "comportamiento, sino tambien sus tiempos de ejecución y el que se desempeñe de mejor manera\n",
    "le podremos considerar como el mejor."
   ]
  },
  {
   "cell_type": "markdown",
   "metadata": {},
   "source": [
    "### Pasos a Seguir"
   ]
  },
  {
   "cell_type": "markdown",
   "metadata": {},
   "source": [
    "Especificaciones promedio para TODOS los experimentos propuestos debido a que todos se evaluaran con la función Big_O:\n",
    "\n",
    "Para su obtener resultados lo más acercados a lo propuesto se necesita una maquina: HP con 8gb de RAM, 1 TERA de almacenamiento en disco, y un procesador AMD Ryzen 3\n",
    "\n",
    "- Contar con una distribución de linux de la rama Debian, como S.O.\n",
    "- Contar con la versión de Python 3.8\n",
    "- Contar con Pip instalado previamente\n",
    "- Descargar la versión más reciente de la biblioteca big_o con:"
   ]
  },
  {
   "cell_type": "code",
   "execution_count": 1,
   "metadata": {},
   "outputs": [
    {
     "name": "stdout",
     "output_type": "stream",
     "text": [
      "Requirement already satisfied: big-O in /home/flicker/.local/lib/python3.8/site-packages (0.10.1)\n",
      "Requirement already satisfied: numpy in /home/flicker/.local/lib/python3.8/site-packages (from big-O) (1.19.2)\n",
      "Note: you may need to restart the kernel to use updated packages.\n"
     ]
    }
   ],
   "source": [
    "pip install big-O"
   ]
  },
  {
   "cell_type": "code",
   "execution_count": 2,
   "metadata": {},
   "outputs": [
    {
     "name": "stdout",
     "output_type": "stream",
     "text": [
      "Requirement already up-to-date: prettytable in /home/flicker/.local/lib/python3.8/site-packages (2.0.0)\n",
      "Requirement already satisfied, skipping upgrade: setuptools in /usr/lib/python3/dist-packages (from prettytable) (49.3.1)\n",
      "Requirement already satisfied, skipping upgrade: wcwidth in /home/flicker/.local/lib/python3.8/site-packages (from prettytable) (0.1.7)\n",
      "Note: you may need to restart the kernel to use updated packages.\n"
     ]
    }
   ],
   "source": [
    "pip install -U prettytable"
   ]
  },
  {
   "cell_type": "code",
   "execution_count": 3,
   "metadata": {},
   "outputs": [
    {
     "name": "stdout",
     "output_type": "stream",
     "text": [
      "Requirement already satisfied: pylab-sdk in /home/flicker/.local/lib/python3.8/site-packages (1.3.2)\n",
      "Note: you may need to restart the kernel to use updated packages.\n"
     ]
    }
   ],
   "source": [
    "pip install pylab-sdk"
   ]
  },
  {
   "cell_type": "code",
   "execution_count": 4,
   "metadata": {},
   "outputs": [
    {
     "name": "stdout",
     "output_type": "stream",
     "text": [
      "Requirement already up-to-date: matplotlib in /home/flicker/.local/lib/python3.8/site-packages (3.3.3)\n",
      "Requirement already satisfied, skipping upgrade: numpy>=1.15 in /home/flicker/.local/lib/python3.8/site-packages (from matplotlib) (1.19.2)\n",
      "Requirement already satisfied, skipping upgrade: pillow>=6.2.0 in /usr/lib/python3/dist-packages (from matplotlib) (7.2.0)\n",
      "Requirement already satisfied, skipping upgrade: pyparsing!=2.0.4,!=2.1.2,!=2.1.6,>=2.0.3 in /home/flicker/.local/lib/python3.8/site-packages (from matplotlib) (2.4.2)\n",
      "Requirement already satisfied, skipping upgrade: kiwisolver>=1.0.1 in /home/flicker/.local/lib/python3.8/site-packages (from matplotlib) (1.3.0)\n",
      "Requirement already satisfied, skipping upgrade: cycler>=0.10 in /home/flicker/.local/lib/python3.8/site-packages (from matplotlib) (0.10.0)\n",
      "Requirement already satisfied, skipping upgrade: python-dateutil>=2.1 in /usr/lib/python3/dist-packages (from matplotlib) (2.8.1)\n",
      "Requirement already satisfied, skipping upgrade: six in /home/flicker/.local/lib/python3.8/site-packages (from cycler>=0.10->matplotlib) (1.12.0)\n",
      "Note: you may need to restart the kernel to use updated packages.\n"
     ]
    }
   ],
   "source": [
    "pip install -U matplotlib"
   ]
  },
  {
   "cell_type": "code",
   "execution_count": 5,
   "metadata": {},
   "outputs": [
    {
     "name": "stdout",
     "output_type": "stream",
     "text": [
      "Requirement already satisfied: requests in /usr/lib/python3/dist-packages (2.23.0)\n",
      "Note: you may need to restart the kernel to use updated packages.\n"
     ]
    }
   ],
   "source": [
    "pip install requests"
   ]
  },
  {
   "cell_type": "code",
   "execution_count": 6,
   "metadata": {},
   "outputs": [],
   "source": [
    "import big_o\n",
    "from big_o import complexities as cmpl\n",
    "from prettytable import PrettyTable\n",
    "from pylab import *\n",
    "import matplotlib.pyplot as plt\n",
    "import numpy"
   ]
  },
  {
   "cell_type": "markdown",
   "metadata": {},
   "source": [
    "## 5. Analisis De Resultados"
   ]
  },
  {
   "cell_type": "markdown",
   "metadata": {},
   "source": [
    "## 6. Conclusiones"
   ]
  },
  {
   "cell_type": "markdown",
   "metadata": {},
   "source": [
    "## 7. Referencias "
   ]
  }
 ],
 "metadata": {
  "kernelspec": {
   "display_name": "Python 3",
   "language": "python",
   "name": "python3"
  },
  "language_info": {
   "codemirror_mode": {
    "name": "ipython",
    "version": 3
   },
   "file_extension": ".py",
   "mimetype": "text/x-python",
   "name": "python",
   "nbconvert_exporter": "python",
   "pygments_lexer": "ipython3",
   "version": "3.8.6"
  }
 },
 "nbformat": 4,
 "nbformat_minor": 4
}
