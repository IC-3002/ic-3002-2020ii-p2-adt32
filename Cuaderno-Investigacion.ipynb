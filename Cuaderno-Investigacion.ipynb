{
 "cells": [
  {
   "cell_type": "markdown",
   "metadata": {},
   "source": [
    "# Algoritmo Del Vendedor Viajero - Proyecto II \n"
   ]
  },
  {
   "cell_type": "markdown",
   "metadata": {},
   "source": [
    "## 1. Pregunta De Investigación "
   ]
  },
  {
   "cell_type": "markdown",
   "metadata": {},
   "source": [
    "¿Cómo se compara el desempeño del algoritmo simulated annealing con el desempeño del algoritmo genético en la resolución del problema del vendedor viajero para 17 localidades en Costa Rica?"
   ]
  },
  {
   "cell_type": "markdown",
   "metadata": {},
   "source": [
    "## 2. Preguntas Secundarias  De Investigación"
   ]
  },
  {
   "cell_type": "markdown",
   "metadata": {},
   "source": [
    "- ¿Cuál es la configuración de parámetros recomendada para resolver el\n",
    "  problema con el algoritmo simulated annealing? ¿Por qué?\n",
    "  \n",
    "  \n",
    "- ¿Cuál es la configuración de parámetros recomendada para resolver el\n",
    "  problema con el algoritmo genético? ¿Por qué?"
   ]
  },
  {
   "cell_type": "markdown",
   "metadata": {},
   "source": [
    "## 3. Problema"
   ]
  },
  {
   "cell_type": "markdown",
   "metadata": {},
   "source": [
    "El problema del vendedor  viajero se trata de  crear un algoritmo que busque la ruta mas optima  entre n cantidades de ciudades visitando cada ciudad  exactamente una vez  y finalizando la ruta en la ciudad  donde comenzo. Se utilizaran dos metodos de algoritmos diferentes , el primero será un algoritmo de simulated annealing y el segundo un algoritmo genético. "
   ]
  },
  {
   "cell_type": "markdown",
   "metadata": {},
   "source": [
    "### Alcances  y Delimitaciones"
   ]
  },
  {
   "cell_type": "markdown",
   "metadata": {},
   "source": [
    "Los algoritmos de  simulated  annnealing y genetico utilizan un estilo similar la idea  de estos algoritmos es comenzar  con dos o mas  soluciones al azar  y ir comparando y modificando estas  soluciones con base a su rendimiento, para  asi al final encontrar una solucion optima. Esto permite que apesar  de comenzar con soluciones  al azar estos algoritmos nos dan soluciones optimas que funcionan de muy buena manera. Estos algoritmos utilizan bastantes recursos, pero nos permiten encontrar soluciones que resuelven problemas complicados que de otra manera se nos dificultarían mas. "
   ]
  },
  {
   "cell_type": "markdown",
   "metadata": {},
   "source": [
    "### Hipótesis"
   ]
  },
  {
   "cell_type": "markdown",
   "metadata": {},
   "source": [
    "El algoritmo genético genera una solución más óptima en cuanto a distancia recorrida se refiere, debido a sus raíces provenientes del darwinismo o selección natural, en donde se inicia considerando un gran grupo de posibles resultados y se van generando diversas filtraciones, eliminando todo aquello que pareciera no cumplir con un buen rendimiento; sin embargo, esto genera que su tiempo de ejecución sea mayor en comparación a su contrincante, por lo que, si el tiempo no representa un problema, este será la opción conveniente, pero si lo que queremos es generar un camino a mayor velocidad de procesador, simulated annealing es el ganador. "
   ]
  },
  {
   "cell_type": "markdown",
   "metadata": {},
   "source": [
    "## 4. Metodología"
   ]
  },
  {
   "cell_type": "markdown",
   "metadata": {},
   "source": [
    "Para comparar el algoritmo genetico y simulated annealing vamos a utilizar  el csv con 17 ciudades, se procesara con las funciones DominioAGTSP(Csv,Ciudad)  para generar una matriz en el algoritmo genetico, donde su primer parametro es la ruta del archivo csv y su segundo parametro es el nombre de la ciudad inicial, y DominioTSP para la matriz de simulated annealing que tiene los mismos parametros. \n",
    "\n",
    "Se ejecutaran los algoritmos 17 veces(Cantidad_de_iteraciones) con cada una de las ciudades que se encuentran en el archivo. Primeramente se haran pruebas con respecto al costo total del resultado(ruta).Usaremos la funcion fcosto(x)(que recibe como parametro el resultado del algoritmo) para determinar el costo de cada solucion. Luego se introduciran esos costos en una tabla utilizando la biblioteca prettytable para visualizar de manera sencilla cual algoritmo es mas eficiente.\n",
    "\n",
    "Despues se haran de nuevo las pruebas pero esta vez con respecto al tiempo de ejecucion de los algoritmos. Para calcular el tiempo de ejecucion de cada algoritmo se hara uso de la funcion time.process_time() con el fin de saber el tiempo de ejecucion del programa hasta el momento. Se ejecutara la funcion y se guardara el resultado antes y despues de correr el algoritmo correspondiente para posteriormente restar los tiempos y asi calcular el tiempo de ejecucion del algoritmo. Despues se introduciran los tiempos de ejecucion en una tabla para comparar de manera sencilla los tiempos de ambos algoritmos."
   ]
  },
  {
   "cell_type": "markdown",
   "metadata": {},
   "source": [
    "## 5. Propuesta De Experimentos"
   ]
  },
  {
   "cell_type": "markdown",
   "metadata": {},
   "source": [
    "Especificaciones promedio para TODOS los experimentos propuestos debido a que todos se evaluaran con la función Big_O:\n",
    "\n",
    "Para su obtener resultados lo más acercados a lo propuesto se necesita una maquina: HP con 8gb de RAM, 1 TERA de almacenamiento en disco, y un procesador AMD Ryzen 3\n",
    "\n",
    "- Contar con una distribución de linux de la rama Debian, como S.O.\n",
    "- Contar con la versión de Python 3.8\n",
    "- Contar con Pip instalado previamente\n",
    "- Descargar la versión más reciente de la biblioteca big_o con:"
   ]
  },
  {
   "cell_type": "code",
   "execution_count": 1,
   "metadata": {},
   "outputs": [
    {
     "name": "stdout",
     "output_type": "stream",
     "text": [
      "Defaulting to user installation because normal site-packages is not writeable\n",
      "Requirement already satisfied: big-O in /home/andres/.local/lib/python3.8/site-packages (0.10.1)\n",
      "Requirement already satisfied: numpy in /home/andres/.local/lib/python3.8/site-packages (from big-O) (1.17.4)\n",
      "\u001b[33mWARNING: You are using pip version 20.2.3; however, version 20.3.1 is available.\n",
      "You should consider upgrading via the '/usr/bin/python3 -m pip install --upgrade pip' command.\u001b[0m\n",
      "Note: you may need to restart the kernel to use updated packages.\n"
     ]
    }
   ],
   "source": [
    "pip install big-O"
   ]
  },
  {
   "cell_type": "code",
   "execution_count": 2,
   "metadata": {},
   "outputs": [
    {
     "name": "stdout",
     "output_type": "stream",
     "text": [
      "Defaulting to user installation because normal site-packages is not writeable\n",
      "Requirement already up-to-date: prettytable in /home/andres/.local/lib/python3.8/site-packages (2.0.0)\n",
      "Requirement already satisfied, skipping upgrade: setuptools in /usr/lib/python3/dist-packages (from prettytable) (45.2.0)\n",
      "Requirement already satisfied, skipping upgrade: wcwidth in /home/andres/.local/lib/python3.8/site-packages (from prettytable) (0.1.7)\n",
      "\u001b[33mWARNING: You are using pip version 20.2.3; however, version 20.3.1 is available.\n",
      "You should consider upgrading via the '/usr/bin/python3 -m pip install --upgrade pip' command.\u001b[0m\n",
      "Note: you may need to restart the kernel to use updated packages.\n"
     ]
    }
   ],
   "source": [
    "pip install -U prettytable"
   ]
  },
  {
   "cell_type": "code",
   "execution_count": 3,
   "metadata": {},
   "outputs": [
    {
     "name": "stdout",
     "output_type": "stream",
     "text": [
      "Defaulting to user installation because normal site-packages is not writeable\n",
      "Requirement already satisfied: pylab-sdk in /home/andres/.local/lib/python3.8/site-packages (1.3.2)\n",
      "\u001b[33mWARNING: You are using pip version 20.2.3; however, version 20.3.1 is available.\n",
      "You should consider upgrading via the '/usr/bin/python3 -m pip install --upgrade pip' command.\u001b[0m\n",
      "Note: you may need to restart the kernel to use updated packages.\n"
     ]
    }
   ],
   "source": [
    "pip install pylab-sdk"
   ]
  },
  {
   "cell_type": "code",
   "execution_count": 4,
   "metadata": {},
   "outputs": [
    {
     "name": "stdout",
     "output_type": "stream",
     "text": [
      "Defaulting to user installation because normal site-packages is not writeable\n",
      "Requirement already up-to-date: matplotlib in /home/andres/.local/lib/python3.8/site-packages (3.3.3)\n",
      "Requirement already satisfied, skipping upgrade: cycler>=0.10 in /home/andres/.local/lib/python3.8/site-packages (from matplotlib) (0.10.0)\n",
      "Requirement already satisfied, skipping upgrade: pyparsing!=2.0.4,!=2.1.2,!=2.1.6,>=2.0.3 in /home/andres/.local/lib/python3.8/site-packages (from matplotlib) (2.4.5)\n",
      "Requirement already satisfied, skipping upgrade: numpy>=1.15 in /home/andres/.local/lib/python3.8/site-packages (from matplotlib) (1.17.4)\n",
      "Requirement already satisfied, skipping upgrade: python-dateutil>=2.1 in /home/andres/.local/lib/python3.8/site-packages (from matplotlib) (2.8.1)\n",
      "Requirement already satisfied, skipping upgrade: pillow>=6.2.0 in /usr/lib/python3/dist-packages (from matplotlib) (7.0.0)\n",
      "Requirement already satisfied, skipping upgrade: kiwisolver>=1.0.1 in /home/andres/.local/lib/python3.8/site-packages (from matplotlib) (1.2.0)\n",
      "Requirement already satisfied, skipping upgrade: six in /home/andres/.local/lib/python3.8/site-packages (from cycler>=0.10->matplotlib) (1.13.0)\n",
      "\u001b[33mWARNING: You are using pip version 20.2.3; however, version 20.3.1 is available.\n",
      "You should consider upgrading via the '/usr/bin/python3 -m pip install --upgrade pip' command.\u001b[0m\n",
      "Note: you may need to restart the kernel to use updated packages.\n"
     ]
    }
   ],
   "source": [
    "pip install -U matplotlib"
   ]
  },
  {
   "cell_type": "code",
   "execution_count": 5,
   "metadata": {
    "scrolled": true
   },
   "outputs": [
    {
     "name": "stdout",
     "output_type": "stream",
     "text": [
      "Defaulting to user installation because normal site-packages is not writeable\n",
      "Requirement already satisfied: requests in /usr/lib/python3/dist-packages (2.22.0)\n",
      "\u001b[33mWARNING: You are using pip version 20.2.3; however, version 20.3.1 is available.\n",
      "You should consider upgrading via the '/usr/bin/python3 -m pip install --upgrade pip' command.\u001b[0m\n",
      "Note: you may need to restart the kernel to use updated packages.\n"
     ]
    }
   ],
   "source": [
    "pip install requests"
   ]
  },
  {
   "cell_type": "markdown",
   "metadata": {},
   "source": [
    "### Competencia en costos"
   ]
  },
  {
   "cell_type": "code",
   "execution_count": 11,
   "metadata": {
    "scrolled": false
   },
   "outputs": [
    {
     "name": "stdout",
     "output_type": "stream",
     "text": [
      "+------------------------+--------------------+--------------------+---------------------+\n",
      "|    Ciudad de Inicio    |   Costo Genetico   |     Costo S.A      |      Diferencia     |\n",
      "+------------------------+--------------------+--------------------+---------------------+\n",
      "|        Liberia         |       1957.9       |       3370.6       | -1412.6999999999998 |\n",
      "|       Santa Cruz       |       1742.6       |       3892.6       |       -2150.0       |\n",
      "|         Nicoya         |       1710.7       |       3691.4       |       -1980.7       |\n",
      "|     Ciudad Quesada     | 1819.8999999999999 |       3805.9       | -1986.0000000000002 |\n",
      "|        Alajuela        |       1745.7       |       3935.4       |       -2189.7       |\n",
      "|        Heredia         |       1623.2       |       3733.8       | -2110.6000000000004 |\n",
      "| Puerto Viejo Sarapiqui |       1962.7       |       3955.6       | -1992.8999999999999 |\n",
      "|        San Jose        |       1779.2       |       2802.0       |       -1022.8       |\n",
      "| San Isidro del General |       1781.6       |       3907.5       |       -2125.9       |\n",
      "|       Puntarenas       |       1834.0       |       3527.1       |       -1693.1       |\n",
      "|         Quepos         |       1945.8       |       4073.6       |       -2127.8       |\n",
      "|        Golfito         |       1763.2       |       3716.0       |       -1952.8       |\n",
      "|        Cartago         |       1984.6       | 3340.8999999999996 | -1356.2999999999997 |\n",
      "|       Turrialba        |       1854.5       | 3794.3999999999996 | -1939.8999999999996 |\n",
      "|        Guapiles        |       1915.0       |       3540.7       | -1625.6999999999998 |\n",
      "|         Limon          | 1868.1000000000001 |       3853.9       |       -1985.8       |\n",
      "| Puerto Viejo Talamanca |       1725.1       | 3094.0000000000005 | -1368.9000000000005 |\n",
      "+------------------------+--------------------+--------------------+---------------------+\n"
     ]
    },
    {
     "data": {
      "image/png": "[encoded data removed]",
      "text/plain": [
       "<Figure size 720x432 with 1 Axes>"
      ]
     },
     "metadata": {
      "needs_background": "light"
     },
     "output_type": "display_data"
    }
   ],
   "source": [
    "import big_o\n",
    "from big_o import complexities as cmpl\n",
    "from prettytable import PrettyTable\n",
    "from pylab import *\n",
    "from algoritmo_genetico import optimizar as oag\n",
    "from dominio_ag_tsp import DominioAGTSP\n",
    "\n",
    "from simulated_annealing import optimizar as osa\n",
    "from dominio_tsp import DominioTSP\n",
    "import matplotlib\n",
    "import matplotlib.pyplot as plt\n",
    "import numpy as np\n",
    "CANTIDAD_DE_ITERACIONES = 17\n",
    "\n",
    "#PRUEBAS EN COSTO\n",
    "\n",
    "dominioAG = DominioAGTSP('datos/ciudades_cr.csv', 'Cartago')\n",
    "\n",
    "#Tabla\n",
    "tabla = PrettyTable(['Ciudad de Inicio', 'Costo Genetico', 'Costo S.A ', 'Diferencia'])\n",
    "\n",
    "\n",
    "\n",
    "ciudades = []\n",
    "costo_genetico = []\n",
    "costo_sa = []\n",
    "\n",
    "for i in range(0, CANTIDAD_DE_ITERACIONES):\n",
    "    ciudad = dominioAG.cities[i]\n",
    "    dominioAG = DominioAGTSP('datos/ciudades_cr.csv', ciudad)\n",
    "    solAG = oag(dominioAG, 100, 0.1, 0.5, 1000)\n",
    "    \n",
    "\n",
    "    #Cargaremos los dominios para el S.A\n",
    "    dominioSP = DominioTSP('datos/ciudades_cr.csv', ciudad)\n",
    "    solSP = osa(dominioSP)\n",
    "    \n",
    "    costoAGMejorSolucion = dominioAG.fcosto(solAG)\n",
    "    costoSPMejorSolucion = dominioSP.fcosto(solSP)\n",
    "    if i%3 == 0:\n",
    "        costo_genetico.append(costoAGMejorSolucion)\n",
    "        costo_sa.append(costoSPMejorSolucion)\n",
    "        ciudades.append(ciudad)\n",
    "    tabla.add_row([ciudad,str(costoAGMejorSolucion),str(costoSPMejorSolucion),str(costoAGMejorSolucion-costoSPMejorSolucion)])\n",
    "    #AÑADIR A TABLA E IMPRIMIR TABLA\n",
    "    \n",
    "print(tabla)\n",
    "\n",
    "#Obtenemos la posicion de cada etiqueta en el eje de X\n",
    "x = np.arange(len(ciudades))\n",
    "#tamaño de cada barra\n",
    "width = 0.35\n",
    "\n",
    "fig, ax = plt.subplots()\n",
    "\n",
    "\n",
    "#Generamos las barras para el conjunto de hombres\n",
    "rects1 = ax.bar(x - width/2, costo_genetico, width, label='Algoritmo Genetico')\n",
    "#Generamos las barras para el conjunto de mujeres\n",
    "rects2 = ax.bar(x + width/2, costo_sa, width, label='S.A')\n",
    "\n",
    "#Añadimos las etiquetas de identificacion de valores en el grafico\n",
    "ax.set_ylabel('Costo')\n",
    "ax.set_title('Comparacion de Costos de los algoritmos')\n",
    "ax.set_xticks(x)\n",
    "ax.set_xticklabels(ciudades)\n",
    "#Añadimos un legen() esto permite mmostrar con colores a que pertence cada valor.\n",
    "ax.legend()\n",
    "\n",
    "def autolabel(rects):\n",
    "    \"\"\"Funcion para agregar una etiqueta con el valor en cada barra\"\"\"\n",
    "    for rect in rects:\n",
    "        height = rect.get_height()\n",
    "        ax.annotate('{}'.format(height),\n",
    "                    xy=(rect.get_x() + rect.get_width() / 2, height),\n",
    "                    xytext=(0, 3),  # 3 points vertical offset\n",
    "                    textcoords=\"offset points\",\n",
    "                    ha='center', va='bottom')\n",
    "\n",
    "#Añadimos las etiquetas para cada barra\n",
    "autolabel(rects1)\n",
    "autolabel(rects2)\n",
    "fig.tight_layout()\n",
    "fig.set_size_inches(10, 6)\n",
    "plt.savefig('doble_barra.png')\n",
    "#Mostramos la grafica con el metodo show()\n",
    "plt.show()\n"
   ]
  },
  {
   "cell_type": "markdown",
   "metadata": {},
   "source": [
    "### Competencia en Tiempos"
   ]
  },
  {
   "cell_type": "code",
   "execution_count": 7,
   "metadata": {},
   "outputs": [
    {
     "name": "stdout",
     "output_type": "stream",
     "text": [
      "+------------------------+---------------------------+----------------------+--------------------+\n",
      "|    Ciudad de Inicio    | Tiempo algoritmo genetico |      Tiempo S.A      |     Diferencia     |\n",
      "+------------------------+---------------------------+----------------------+--------------------+\n",
      "|        Liberia         |     2.297787190000001     | 0.02792702600000041  | 2.2698601640000007 |\n",
      "|       Santa Cruz       |     1.7464464170000014    | 0.019081217000000095 | 1.7273652000000013 |\n",
      "|         Nicoya         |     1.9039662369999988    | 0.018336188999995784 | 1.885630048000003  |\n",
      "|     Ciudad Quesada     |     2.047298505999997     | 0.017957123000002184 | 2.029341382999995  |\n",
      "|        Alajuela        |     4.898413080999994     | 0.018574420000000202 | 4.879838660999994  |\n",
      "|        Heredia         |     1.7769045189999986    | 0.01658844299999629  | 1.7603160760000023 |\n",
      "| Puerto Viejo Sarapiqui |     1.6852245910000008    | 0.017240855000004274 | 1.6679837359999965 |\n",
      "|        San Jose        |     1.6568274599999953    | 0.015669469000002323 | 1.641157990999993  |\n",
      "| San Isidro del General |     1.7792091850000062    | 0.019486290999999767 | 1.7597228940000065 |\n",
      "|       Puntarenas       |     1.9889723960000012    | 0.020616852999999935 | 1.9683555430000013 |\n",
      "|         Quepos         |     1.8500680300000028    | 0.01784510800000305  | 1.8322229219999997 |\n",
      "|        Golfito         |     1.9668662430000055    | 0.022545815999997387 | 1.944320427000008  |\n",
      "|        Cartago         |     2.112079946999998     | 0.022980101999998226 |    2.089099845     |\n",
      "|       Turrialba        |     2.3869944370000056    | 0.028758760000002326 | 2.3582356770000032 |\n",
      "|        Guapiles        |     2.4790406070000017    | 0.02088860899999645  | 2.4581519980000053 |\n",
      "|         Limon          |     2.176132140000007     | 0.021297191000002158 | 2.154834949000005  |\n",
      "| Puerto Viejo Talamanca |     2.0047657180000016    | 0.02250565399999971  | 1.9822600640000019 |\n",
      "+------------------------+---------------------------+----------------------+--------------------+\n"
     ]
    }
   ],
   "source": [
    "import time\n",
    "\n",
    "#Añadir A tabla\n",
    "CANTIDAD_DE_ITERACIONES = 17\n",
    "\n",
    "#Tabla\n",
    "tabla = PrettyTable(['Ciudad de Inicio', 'Tiempo algoritmo genetico', 'Tiempo S.A', 'Diferencia'])\n",
    "\n",
    "\n",
    "for i in range(0, CANTIDAD_DE_ITERACIONES):\n",
    "    \n",
    "    ciudad = dominioAG.cities[i]\n",
    "    dominioAG = DominioAGTSP('datos/ciudades_cr.csv', ciudad)\n",
    "    #Cargaremos los dominios para el S.A\n",
    "    dominioSP = DominioTSP('datos/ciudades_cr.csv', ciudad)\n",
    "    \n",
    "    \n",
    "    inicioAG = time.process_time()\n",
    "    x = oag(dominioAG, 100, 0.1, 0.5, 1000)\n",
    "    deltaAG = time.process_time() - inicioAG \n",
    "    inicioSA = time.process_time()\n",
    "    y = osa(dominioSP)\n",
    "    deltaSA = time.process_time() - inicioSA\n",
    "    tabla.add_row([ciudad,str(deltaAG),str(deltaSA),str(deltaAG-deltaSA)])\n",
    "print(tabla)"
   ]
  },
  {
   "cell_type": "markdown",
   "metadata": {},
   "source": [
    "## 6. Conclusiones"
   ]
  },
  {
   "cell_type": "markdown",
   "metadata": {},
   "source": [
    "## 7. Referencias "
   ]
  }
 ],
 "metadata": {
  "kernelspec": {
   "display_name": "Python 3",
   "language": "python",
   "name": "python3"
  },
  "language_info": {
   "codemirror_mode": {
    "name": "ipython",
    "version": 3
   },
   "file_extension": ".py",
   "mimetype": "text/x-python",
   "name": "python",
   "nbconvert_exporter": "python",
   "pygments_lexer": "ipython3",
   "version": "3.8.2"
  }
 },
 "nbformat": 4,
 "nbformat_minor": 4
}
